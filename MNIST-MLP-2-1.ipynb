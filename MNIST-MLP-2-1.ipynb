{
 "cells": [
  {
   "cell_type": "code",
   "execution_count": 47,
   "metadata": {},
   "outputs": [],
   "source": [
    "# Python imports\n",
    "import os\n",
    "import random\n",
    "\n",
    "# PyTorch imports\n",
    "import torch\n",
    "import torchvision\n",
    "\n",
    "# Third-party imports\n",
    "import matplotlib.pyplot as plt\n",
    "import numpy as np\n",
    "from tabulate import tabulate\n",
    "\n",
    "# Own imports\n",
    "import utils"
   ]
  },
  {
   "attachments": {},
   "cell_type": "markdown",
   "metadata": {},
   "source": [
    "# 0. Constants"
   ]
  },
  {
   "cell_type": "code",
   "execution_count": 37,
   "metadata": {},
   "outputs": [],
   "source": [
    "BATCH_SIZE = 10\n",
    "LEARNING_RATE = 0.01\n",
    "EPOCHS = 30\n",
    "WIDTH, HEIGHT = 28, 28\n",
    "SAVED_FILENAME = 'MNIST-MLP-2-1'\n",
    "LAYER_SIZES = [64, 64]\n",
    "VARIANTS = ['No Activation', 'Sigmoid', 'ReLU']"
   ]
  },
  {
   "attachments": {},
   "cell_type": "markdown",
   "metadata": {},
   "source": [
    "# 1. Dataset"
   ]
  },
  {
   "cell_type": "code",
   "execution_count": 38,
   "metadata": {},
   "outputs": [],
   "source": [
    "# Load datasets.\n",
    "dataset_training = torchvision.datasets.MNIST('./data', download=True, train=True, transform=torchvision.transforms.ToTensor())\n",
    "dataset_test = torchvision.datasets.MNIST('./data', download=True, train=False, transform=torchvision.transforms.ToTensor())\n",
    "\n",
    "# Create data loaders.\n",
    "dataloader_training = torch.utils.data.DataLoader(dataset_training, batch_size=BATCH_SIZE, shuffle=True)\n",
    "dataloader_test = torch.utils.data.DataLoader(dataset_test, batch_size=BATCH_SIZE, shuffle=True)"
   ]
  },
  {
   "attachments": {},
   "cell_type": "markdown",
   "metadata": {},
   "source": [
    "# 2. Models"
   ]
  },
  {
   "cell_type": "code",
   "execution_count": 39,
   "metadata": {},
   "outputs": [],
   "source": [
    "models = [\n",
    "    torch.nn.Sequential(\n",
    "        torch.nn.Flatten(),\n",
    "        torch.nn.Linear(WIDTH*HEIGHT, LAYER_SIZES[0]),\n",
    "        torch.nn.Linear(LAYER_SIZES[0], LAYER_SIZES[1]),\n",
    "        torch.nn.Linear(LAYER_SIZES[1], 10),\n",
    "        torch.nn.Softmax(dim=1)\n",
    "    ),\n",
    "    torch.nn.Sequential(\n",
    "        torch.nn.Flatten(),\n",
    "        torch.nn.Linear(WIDTH*HEIGHT, LAYER_SIZES[0]),\n",
    "        torch.nn.Sigmoid(),\n",
    "        torch.nn.Linear(LAYER_SIZES[0], LAYER_SIZES[1]),\n",
    "        torch.nn.Sigmoid(),\n",
    "        torch.nn.Linear(LAYER_SIZES[1], 10),\n",
    "        torch.nn.Softmax(dim=1)\n",
    "    ),\n",
    "    torch.nn.Sequential(\n",
    "        torch.nn.Flatten(),\n",
    "        torch.nn.Linear(WIDTH*HEIGHT, LAYER_SIZES[0]),\n",
    "        torch.nn.ReLU(),\n",
    "        torch.nn.Linear(LAYER_SIZES[0], LAYER_SIZES[1]),\n",
    "        torch.nn.ReLU(),\n",
    "        torch.nn.Linear(LAYER_SIZES[1], 10),\n",
    "        torch.nn.Softmax(dim=1)\n",
    "    ),\n",
    "]"
   ]
  },
  {
   "attachments": {},
   "cell_type": "markdown",
   "metadata": {},
   "source": [
    "## 2.1. Statistics of the Models"
   ]
  },
  {
   "cell_type": "code",
   "execution_count": 78,
   "metadata": {},
   "outputs": [
    {
     "name": "stdout",
     "output_type": "stream",
     "text": [
      "| Variant       |   Number of Parameters |\n",
      "|---------------|------------------------|\n",
      "| No Activation |                  55050 |\n",
      "| Sigmoid       |                  55050 |\n",
      "| ReLU          |                  55050 |\n"
     ]
    }
   ],
   "source": [
    "nums_parameters = []\n",
    "for i in range(len(VARIANTS)):\n",
    "    num_parameters = 0\n",
    "    for params in models[i].parameters():\n",
    "        num_parameters_temp = 1\n",
    "        size = params.size()\n",
    "        for dim_size in size:\n",
    "            num_parameters_temp *= dim_size\n",
    "        num_parameters += num_parameters_temp\n",
    "    nums_parameters.append(num_parameters)\n",
    "\n",
    "headers = ['Variant', 'Number of Parameters']\n",
    "\n",
    "rows = []\n",
    "for i in range(len(VARIANTS)):\n",
    "    rows.append([VARIANTS[i], nums_parameters[i]])\n",
    "\n",
    "print(tabulate(rows, headers=headers, tablefmt='github'))"
   ]
  },
  {
   "attachments": {},
   "cell_type": "markdown",
   "metadata": {},
   "source": [
    "# 3. Training"
   ]
  },
  {
   "attachments": {},
   "cell_type": "markdown",
   "metadata": {},
   "source": [
    "## 3.1. Helper Functions"
   ]
  },
  {
   "cell_type": "code",
   "execution_count": 40,
   "metadata": {},
   "outputs": [],
   "source": [
    "def calculateStatistics(dataloader, model, loss_fn):\n",
    "    with torch.no_grad():\n",
    "        num_batches = len(dataloader)\n",
    "        num_samples = len(dataloader.dataset)\n",
    "        loss, correct = 0, 0\n",
    "\n",
    "        for images, labels in dataloader:\n",
    "            # Make predictions.\n",
    "            preds = model(images)\n",
    "\n",
    "            # Calculate the loss.\n",
    "            loss += loss_fn(preds, labels).item()\n",
    "\n",
    "            # Calculate the number of correctnesses.\n",
    "            correct += (preds.argmax(dim=1) == labels).type(dtype=torch.float32).sum().item()\n",
    "\n",
    "        # Calculate the mean loss and correct.\n",
    "        loss /= num_batches\n",
    "        correct /= num_samples\n",
    "\n",
    "    return loss, correct"
   ]
  },
  {
   "cell_type": "code",
   "execution_count": 41,
   "metadata": {},
   "outputs": [],
   "source": [
    "def load(models):\n",
    "    # Retrieve saved data.\n",
    "    data = torch.load(f'saved/{SAVED_FILENAME}.pt')\n",
    "\n",
    "    # Construct structs losses, corrects, losses_test and corrects_test for returning.\n",
    "    losses, corrects, losses_test, corrects_test, durations = [], [], [], [], []\n",
    "\n",
    "    # Resume model from saved data.\n",
    "    for i in range(len(models)):\n",
    "        state_dict = data[i]['state_dict']\n",
    "        models[i].load_state_dict(state_dict)\n",
    "        losses.append(data[i]['losses'])\n",
    "        corrects.append(data[i]['corrects'])\n",
    "        losses_test.append(data[i]['losses_test'])\n",
    "        corrects_test.append(data[i]['corrects_test'])\n",
    "        durations.append(data[i]['duration'])\n",
    "\n",
    "    # Return losses and accuracies for training and testing.\n",
    "    return losses, corrects, losses_test, corrects_test, durations"
   ]
  },
  {
   "cell_type": "code",
   "execution_count": 42,
   "metadata": {},
   "outputs": [],
   "source": [
    "def save(models, losses, corrects, losses_test, corrects_test, durations):\n",
    "    # Create folder 'saved' if it does not exist.\n",
    "    if not os.path.exists('saved'):\n",
    "        os.makedirs('saved')\n",
    "\n",
    "    # Construct the struct of data to save.\n",
    "    data = []\n",
    "    for i in range(len(models)):\n",
    "        data.append({\n",
    "            'state_dict': models[i].state_dict(),\n",
    "            'losses': losses[i],\n",
    "            'corrects': corrects[i],\n",
    "            'losses_test': losses_test[i],\n",
    "            'corrects_test': corrects_test[i],\n",
    "            'duration': durations[i],\n",
    "        })\n",
    "\n",
    "    # Save data to the file.\n",
    "    torch.save(data, f'saved/{SAVED_FILENAME}.pt')"
   ]
  },
  {
   "attachments": {},
   "cell_type": "markdown",
   "metadata": {},
   "source": [
    "## 3.2. Training Function"
   ]
  },
  {
   "cell_type": "code",
   "execution_count": 43,
   "metadata": {},
   "outputs": [],
   "source": [
    "def train(model, epochs, learning_rate):\n",
    "    # Define a timer and start timing.\n",
    "    t = utils.Timer()\n",
    "    t.start()\n",
    "\n",
    "    loss_fn = torch.nn.CrossEntropyLoss()\n",
    "    optimizer = torch.optim.SGD(model.parameters(), learning_rate)\n",
    "\n",
    "    # Define losses and corrects for training and test.\n",
    "    losses, corrects = [], []\n",
    "    losses_test, corrects_test = [], []\n",
    "\n",
    "    # Calculate losses and corrects before training.\n",
    "    loss, correct = calculateStatistics(dataloader_training, model, loss_fn)\n",
    "    losses.append(loss)\n",
    "    corrects.append(correct)\n",
    "    loss_test, correct_test = calculateStatistics(dataloader_test, model, loss_fn)\n",
    "    losses_test.append(loss)\n",
    "    corrects_test.append(correct_test)\n",
    "\n",
    "    # Run epochs.\n",
    "    for epoch in range(epochs):\n",
    "\n",
    "        # Run one epoch for training.\n",
    "        num_batches = len(dataloader_training)\n",
    "        num_samples = len(dataloader_training.dataset)\n",
    "        loss_epoch, correct_epoch = 0, 0\n",
    "        for batch, [images, labels] in enumerate(dataloader_training):\n",
    "            # Make predictions.\n",
    "            pred = model(images)\n",
    "\n",
    "            # Calculate the loss.\n",
    "            loss = loss_fn(pred, labels)\n",
    "            loss_epoch += loss.item()\n",
    "\n",
    "            # Calculate the number of correctness.\n",
    "            correct_epoch += (pred.argmax(dim=1) == labels).type(dtype=torch.float32).sum().item()\n",
    "\n",
    "            # Calculate gradients.\n",
    "            optimizer.zero_grad()\n",
    "            loss.backward()\n",
    "\n",
    "            # Optimization.\n",
    "            optimizer.step()\n",
    "\n",
    "            if (batch + 1) % 1000 == 0:\n",
    "                loss = loss.item()\n",
    "            \n",
    "        # Calculate the mean loss across all batches.\n",
    "        loss_epoch /= num_batches\n",
    "        losses.append(loss_epoch)\n",
    "\n",
    "        # Calculate the mean number of correctness across all batches.\n",
    "        correct_epoch /= num_samples\n",
    "        corrects.append(correct_epoch)\n",
    "\n",
    "        # Calculate loss and correct for test.\n",
    "        loss_test, correct_test = calculateStatistics(dataloader_test, model, loss_fn)\n",
    "        losses_test.append(loss_test)\n",
    "        corrects_test.append(correct_test)\n",
    "\n",
    "    # Stop timing.\n",
    "    t.stop()\n",
    "\n",
    "    # Return losses and accuracies for training and testing.\n",
    "    return losses, corrects, losses_test, corrects_test, t.getDuration()"
   ]
  },
  {
   "attachments": {},
   "cell_type": "markdown",
   "metadata": {},
   "source": [
    "## 3.3. Training"
   ]
  },
  {
   "cell_type": "code",
   "execution_count": 44,
   "metadata": {},
   "outputs": [
    {
     "name": "stdout",
     "output_type": "stream",
     "text": [
      "Training the model for model No Activation...\n",
      "Training the model for model Sigmoid...\n",
      "Training the model for model ReLU...\n",
      "Training duration for each layer:\n",
      "| Variant       |   Training Duration |\n",
      "|---------------|---------------------|\n",
      "| No Activation |             338.841 |\n",
      "| Sigmoid       |             331.146 |\n",
      "| ReLU          |             334.37  |\n"
     ]
    }
   ],
   "source": [
    "if os.path.exists(f'saved/{SAVED_FILENAME}.pt'):\n",
    "    losses, corrects, losses_test, corrects_test, durations = load(models)\n",
    "else:\n",
    "    losses, corrects, losses_test, corrects_test, durations = [], [], [], [], []\n",
    "    for i in range(len(VARIANTS)):\n",
    "        print(f'Training the model for model {VARIANTS[i]}...')\n",
    "        losses_1_model, corrects_1_model, losses_test_1_model, corrects_test_1_model, duration = train(models[i], EPOCHS, LEARNING_RATE)\n",
    "        losses.append(losses_1_model)\n",
    "        corrects.append(corrects_1_model)\n",
    "        losses_test.append(losses_test_1_model)\n",
    "        corrects_test.append(corrects_test_1_model)\n",
    "        durations.append(duration)\n",
    "    save(models, losses, corrects, losses_test, corrects_test, durations)\n",
    "\n",
    "# Print table of training time.\n",
    "headers = ['Variant', 'Training Duration']\n",
    "\n",
    "rows = []\n",
    "for i in range(len(VARIANTS)):\n",
    "    rows.append([VARIANTS[i], durations[i]])\n",
    "\n",
    "print('Training duration for each layer:')\n",
    "print(tabulate(rows, headers=headers, tablefmt='github'))"
   ]
  },
  {
   "attachments": {},
   "cell_type": "markdown",
   "metadata": {},
   "source": [
    "## 3.3. Visualization of the Training Process"
   ]
  },
  {
   "attachments": {},
   "cell_type": "markdown",
   "metadata": {},
   "source": [
    "### 3.3.1. Visualization of Losses and Accuracies"
   ]
  },
  {
   "cell_type": "code",
   "execution_count": 45,
   "metadata": {},
   "outputs": [
    {
     "name": "stdout",
     "output_type": "stream",
     "text": [
      "Last loss and accuracy for each model variant:\n",
      "| Variant       |   Last Loss |   Last Accuracy |\n",
      "|---------------|-------------|-----------------|\n",
      "| No Activation |       1.526 |           0.938 |\n",
      "| Sigmoid       |       1.795 |           0.673 |\n",
      "| ReLU          |       1.496 |           0.968 |\n"
     ]
    },
    {
     "data": {
      "image/png": "[encoded data removed]",
      "text/plain": [
       "<Figure size 1200x400 with 6 Axes>"
      ]
     },
     "metadata": {},
     "output_type": "display_data"
    }
   ],
   "source": [
    "fig, axs = plt.subplots(2, len(VARIANTS), figsize=(12, 4))\n",
    "for i in range(len(VARIANTS)):\n",
    "    axs[0, i].plot(losses[i])\n",
    "    axs[0, i].set_title(f'{VARIANTS[i]} - {losses[i][EPOCHS]:.3f}')\n",
    "    axs[1, i].plot(corrects[i])\n",
    "    axs[1, i].set_title(f'{VARIANTS[i]} - {corrects[i][EPOCHS]:.3f}')\n",
    "plt.tight_layout()\n",
    "\n",
    "# Print the last losses and accuracies for each layer size.\n",
    "headers = ['Variant', 'Last Loss', 'Last Accuracy']\n",
    "\n",
    "rows = []\n",
    "for i in range(len(VARIANTS)):\n",
    "    rows.append([VARIANTS[i], losses[i][EPOCHS], corrects[i][EPOCHS]])\n",
    "\n",
    "print('Last loss and accuracy for each model variant:')\n",
    "print(tabulate(rows, headers=headers, tablefmt='github', floatfmt='.3f'))"
   ]
  },
  {
   "attachments": {},
   "cell_type": "markdown",
   "metadata": {},
   "source": [
    "### 3.3.2. Visualize Dead Zones of ReLU"
   ]
  },
  {
   "cell_type": "code",
   "execution_count": 76,
   "metadata": {},
   "outputs": [
    {
     "data": {
      "image/png": "[encoded data removed]",
      "text/plain": [
       "<Figure size 640x480 with 2 Axes>"
      ]
     },
     "metadata": {},
     "output_type": "display_data"
    }
   ],
   "source": [
    "# Sample an image randomly from the test dataset.\n",
    "image = dataset_test[random.randint(0, len(dataset_test)-1)][0]\n",
    "\n",
    "# Turn on eval mode for the model.\n",
    "models[2].eval()\n",
    "\n",
    "# Get the output of the first ReLU layer.\n",
    "output1 = image\n",
    "for i in range(3):\n",
    "    output1 = models[2][i](output1)\n",
    "\n",
    "# Get the output of the second ReLU layer.\n",
    "output2 = output1\n",
    "for i in range(3, 5):\n",
    "    output2 = models[2][i](output2)\n",
    "\n",
    "# Convert the outputs to numpy arrays.\n",
    "output1 = output1.detach().numpy()\n",
    "output2 = output2.detach().numpy()\n",
    "\n",
    "# Create matplotlib subplots.\n",
    "fig, (ax1, ax2) = plt.subplots(1, 2)\n",
    "\n",
    "# Plot the output of the 1st ReLU layer.\n",
    "counts, bins = np.histogram(output1)\n",
    "ax1.stairs(counts, bins)\n",
    "ax1.hist(bins[:-1], bins, weights=counts)\n",
    "ax1.set_title('Activation of 1st ReLU')\n",
    "\n",
    "# Plot the output of the 2nd ReLU layer.\n",
    "counts, bins = np.histogram(output2)\n",
    "ax2.stairs(counts, bins)\n",
    "ax2.hist(bins[:-1], bins, weights=counts)\n",
    "ax2.set_title('Activation of 2nd ReLU')\n",
    "\n",
    "# Show the plot.\n",
    "plt.show()"
   ]
  }
 ],
 "metadata": {
  "kernelspec": {
   "display_name": "base",
   "language": "python",
   "name": "python3"
  },
  "language_info": {
   "codemirror_mode": {
    "name": "ipython",
    "version": 3
   },
   "file_extension": ".py",
   "mimetype": "text/x-python",
   "name": "python",
   "nbconvert_exporter": "python",
   "pygments_lexer": "ipython3",
   "version": "3.9.13"
  },
  "orig_nbformat": 4
 },
 "nbformat": 4,
 "nbformat_minor": 2
}
