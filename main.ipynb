{
 "cells": [
  {
   "cell_type": "code",
   "execution_count": 1,
   "metadata": {},
   "outputs": [],
   "source": [
    "# Python imports\n",
    "import sys\n",
    "\n",
    "# PyTorch imports\n",
    "import torch\n",
    "import torchvision\n",
    "\n",
    "# Third-party imports\n",
    "import matplotlib.pyplot as plt\n",
    "\n",
    "# Own imports\n",
    "import utils"
   ]
  },
  {
   "attachments": {},
   "cell_type": "markdown",
   "metadata": {},
   "source": [
    "# 0. Constants"
   ]
  },
  {
   "cell_type": "code",
   "execution_count": 2,
   "metadata": {},
   "outputs": [],
   "source": [
    "BATCH_SIZE = 10\n",
    "LEARNING_RATE = 0.001\n",
    "EPOCHS = 10"
   ]
  },
  {
   "attachments": {},
   "cell_type": "markdown",
   "metadata": {},
   "source": [
    "# 1. Dataset"
   ]
  },
  {
   "cell_type": "code",
   "execution_count": 3,
   "metadata": {},
   "outputs": [],
   "source": [
    "dataset_training = torchvision.datasets.MNIST('./data', download=True, train=True, transform=torchvision.transforms.ToTensor())\n",
    "dataset_test = torchvision.datasets.MNIST('./data', download=True, train=False, transform=torchvision.transforms.ToTensor())"
   ]
  },
  {
   "cell_type": "code",
   "execution_count": 4,
   "metadata": {},
   "outputs": [],
   "source": [
    "dataloader_training = torch.utils.data.DataLoader(dataset_training, batch_size=BATCH_SIZE, shuffle=True)\n",
    "dataloader_test = torch.utils.data.DataLoader(dataset_test, batch_size=BATCH_SIZE, shuffle=True)"
   ]
  },
  {
   "attachments": {},
   "cell_type": "markdown",
   "metadata": {},
   "source": [
    "## 1.1. Dataset Properties"
   ]
  },
  {
   "attachments": {},
   "cell_type": "markdown",
   "metadata": {},
   "source": [
    "### 1.1.1. Length of Datasets"
   ]
  },
  {
   "cell_type": "code",
   "execution_count": 5,
   "metadata": {},
   "outputs": [
    {
     "name": "stdout",
     "output_type": "stream",
     "text": [
      "Length of training dataset: 60000\n",
      "Length of test dataset: 10000\n"
     ]
    }
   ],
   "source": [
    "print(f'Length of training dataset: {len(dataset_training)}')\n",
    "print(f'Length of test dataset: {len(dataset_test)}')"
   ]
  },
  {
   "attachments": {},
   "cell_type": "markdown",
   "metadata": {},
   "source": [
    "### 1.1.2. Value Range"
   ]
  },
  {
   "cell_type": "code",
   "execution_count": 6,
   "metadata": {},
   "outputs": [
    {
     "name": "stdout",
     "output_type": "stream",
     "text": [
      "Min value of images is 0.0\n",
      "Max value of images is 1.0\n"
     ]
    }
   ],
   "source": [
    "image, _ = dataset_training[0]\n",
    "print(f'Min value of images is {image.min()}')\n",
    "print(f'Max value of images is {image.max()}')"
   ]
  },
  {
   "attachments": {},
   "cell_type": "markdown",
   "metadata": {},
   "source": [
    "### 1.1.3. Sample Plots"
   ]
  },
  {
   "cell_type": "code",
   "execution_count": 7,
   "metadata": {},
   "outputs": [
    {
     "data": {
      "image/png": "[encoded data removed]",
      "text/plain": [
       "<Figure size 1000x400 with 10 Axes>"
      ]
     },
     "metadata": {},
     "output_type": "display_data"
    }
   ],
   "source": [
    "# Sample 10 images with labels 0 to 9.\n",
    "samples = utils.sample_MNIST_with_all_labels(dataset_training)\n",
    "\n",
    "# Plot the images with labels.\n",
    "rows, cols = 2, 5\n",
    "plt.figure(figsize=(10, 4))\n",
    "for i in range(rows * cols):\n",
    "    plt.subplot(rows, cols, i+1)\n",
    "    plt.axis('off')\n",
    "    plt.imshow(samples[i].squeeze(), cmap=plt.cm.gray)\n",
    "plt.tight_layout()"
   ]
  },
  {
   "attachments": {},
   "cell_type": "markdown",
   "metadata": {},
   "source": [
    "# 2. Model"
   ]
  },
  {
   "cell_type": "code",
   "execution_count": 8,
   "metadata": {},
   "outputs": [
    {
     "name": "stdout",
     "output_type": "stream",
     "text": [
      "Sequential(\n",
      "  (0): Flatten(start_dim=1, end_dim=-1)\n",
      "  (1): Linear(in_features=784, out_features=10, bias=True)\n",
      "  (2): Softmax(dim=1)\n",
      ")\n"
     ]
    }
   ],
   "source": [
    "model = torch.nn.Sequential(\n",
    "    torch.nn.Flatten(),\n",
    "    torch.nn.Linear(28*28, 10),\n",
    "    torch.nn.Softmax(dim=1)\n",
    ")\n",
    "print(model)"
   ]
  },
  {
   "attachments": {},
   "cell_type": "markdown",
   "metadata": {},
   "source": [
    "# 3. Train"
   ]
  },
  {
   "cell_type": "code",
   "execution_count": 41,
   "metadata": {},
   "outputs": [
    {
     "name": "stdout",
     "output_type": "stream",
     "text": [
      "loss: 1.504599 [10000 / 60000]\n",
      "loss: 1.663305 [20000 / 60000]\n",
      "loss: 1.758182 [30000 / 60000]\n",
      "loss: 1.506306 [40000 / 60000]\n",
      "loss: 1.607546 [50000 / 60000]\n",
      "loss: 1.767725 [60000 / 60000]\n",
      "Test error: loss: 1.660816, accuracy: 83.3%\n",
      "loss: 1.753243 [10000 / 60000]\n",
      "loss: 1.658125 [20000 / 60000]\n",
      "loss: 1.553720 [30000 / 60000]\n",
      "loss: 1.873539 [40000 / 60000]\n",
      "loss: 1.707090 [50000 / 60000]\n",
      "loss: 1.736282 [60000 / 60000]\n",
      "Test error: loss: 1.659567, accuracy: 83.3%\n",
      "loss: 1.518700 [10000 / 60000]\n",
      "loss: 1.806018 [20000 / 60000]\n",
      "loss: 1.628801 [30000 / 60000]\n",
      "loss: 1.643429 [40000 / 60000]\n",
      "loss: 1.802089 [50000 / 60000]\n",
      "loss: 1.519727 [60000 / 60000]\n",
      "Test error: loss: 1.658078, accuracy: 83.4%\n",
      "loss: 1.599267 [10000 / 60000]\n",
      "loss: 1.608992 [20000 / 60000]\n",
      "loss: 1.515549 [30000 / 60000]\n",
      "loss: 1.706775 [40000 / 60000]\n",
      "loss: 1.503507 [50000 / 60000]\n",
      "loss: 1.689568 [60000 / 60000]\n",
      "Test error: loss: 1.655895, accuracy: 83.6%\n",
      "loss: 1.848632 [10000 / 60000]\n",
      "loss: 1.680315 [20000 / 60000]\n",
      "loss: 1.599125 [30000 / 60000]\n",
      "loss: 1.715809 [40000 / 60000]\n",
      "loss: 1.919744 [50000 / 60000]\n",
      "loss: 1.678812 [60000 / 60000]\n",
      "Test error: loss: 1.651269, accuracy: 84.3%\n",
      "loss: 1.677000 [10000 / 60000]\n",
      "loss: 1.581432 [20000 / 60000]\n",
      "loss: 1.604762 [30000 / 60000]\n",
      "loss: 1.665420 [40000 / 60000]\n",
      "loss: 1.757195 [50000 / 60000]\n",
      "loss: 1.644710 [60000 / 60000]\n",
      "Test error: loss: 1.643430, accuracy: 85.5%\n",
      "loss: 1.649754 [10000 / 60000]\n",
      "loss: 1.516904 [20000 / 60000]\n",
      "loss: 1.630294 [30000 / 60000]\n",
      "loss: 1.621907 [40000 / 60000]\n",
      "loss: 1.487724 [50000 / 60000]\n",
      "loss: 1.606573 [60000 / 60000]\n",
      "Test error: loss: 1.637582, accuracy: 86.5%\n",
      "loss: 1.631492 [10000 / 60000]\n",
      "loss: 1.548350 [20000 / 60000]\n",
      "loss: 1.524522 [30000 / 60000]\n",
      "loss: 1.666786 [40000 / 60000]\n",
      "loss: 1.725462 [50000 / 60000]\n",
      "loss: 1.547189 [60000 / 60000]\n",
      "Test error: loss: 1.633026, accuracy: 87.0%\n",
      "loss: 1.577647 [10000 / 60000]\n",
      "loss: 1.550879 [20000 / 60000]\n",
      "loss: 1.751190 [30000 / 60000]\n",
      "loss: 1.659767 [40000 / 60000]\n",
      "loss: 1.720938 [50000 / 60000]\n",
      "loss: 1.590203 [60000 / 60000]\n",
      "Test error: loss: 1.628791, accuracy: 87.4%\n",
      "loss: 1.621543 [10000 / 60000]\n",
      "loss: 1.519552 [20000 / 60000]\n",
      "loss: 1.767649 [30000 / 60000]\n",
      "loss: 1.573124 [40000 / 60000]\n",
      "loss: 1.553471 [50000 / 60000]\n",
      "loss: 1.652010 [60000 / 60000]\n",
      "Test error: loss: 1.624839, accuracy: 87.8%\n"
     ]
    }
   ],
   "source": [
    "loss_fn = torch.nn.CrossEntropyLoss()\n",
    "optimizer = torch.optim.SGD(model.parameters(), LEARNING_RATE)\n",
    "\n",
    "# Run epochs.\n",
    "for epoch in range(EPOCHS):\n",
    "\n",
    "    # Run one epoch for training.\n",
    "    for batch, [images, labels] in enumerate(dataloader_training):\n",
    "        # Make predictions.\n",
    "        pred = model(images)\n",
    "\n",
    "        # Calculate the loss.\n",
    "        loss = loss_fn(pred, labels)\n",
    "\n",
    "        # Back propagation.\n",
    "        optimizer.zero_grad()\n",
    "        loss.backward()\n",
    "        optimizer.step()\n",
    "\n",
    "        if (batch + 1) % 1000 == 0:\n",
    "            loss, size_current, size_total = loss.item(), (batch+1)*BATCH_SIZE, len(dataloader_training.dataset)\n",
    "            print(f'loss: {loss:>7f} [{size_current:>5d} / {size_total:>5d}]')\n",
    "\n",
    "    # Run one epoch for test.\n",
    "    loss_test, correct_test = 0, 0\n",
    "    num_batches_test = len(dataloader_test)\n",
    "    num_samples_test = len(dataloader_test.dataset)\n",
    "    with torch.no_grad():\n",
    "        for images, labels in dataloader_test:\n",
    "            # Make predictions.\n",
    "            pred = model(images)\n",
    "\n",
    "            # Calculate the loss.\n",
    "            loss_test += loss_fn(pred, labels).item()\n",
    "\n",
    "            # Calculate the number of correctness.\n",
    "            correct_test += (pred.argmax(dim=1) == labels).type(torch.float32).sum().item()\n",
    "    \n",
    "    # Calculate the mean loss across all batches.\n",
    "    loss_test /= num_batches_test\n",
    "\n",
    "    # Calculate the mean number of correctness across all batches.\n",
    "    correct_test /= num_samples_test\n",
    "\n",
    "    print(f'Test error: loss: {loss_test:>7f}, accuracy: {correct_test*100:>0.1f}%')\n"
   ]
  }
 ],
 "metadata": {
  "kernelspec": {
   "display_name": "base",
   "language": "python",
   "name": "python3"
  },
  "language_info": {
   "codemirror_mode": {
    "name": "ipython",
    "version": 3
   },
   "file_extension": ".py",
   "mimetype": "text/x-python",
   "name": "python",
   "nbconvert_exporter": "python",
   "pygments_lexer": "ipython3",
   "version": "3.9.13"
  },
  "orig_nbformat": 4
 },
 "nbformat": 4,
 "nbformat_minor": 2
}
