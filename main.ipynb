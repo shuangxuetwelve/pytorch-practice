{
 "cells": [
  {
   "cell_type": "code",
   "execution_count": 1,
   "metadata": {},
   "outputs": [],
   "source": [
    "# Python imports\n",
    "import sys\n",
    "\n",
    "# PyTorch imports\n",
    "import torch\n",
    "import torchvision\n",
    "\n",
    "# Third-party imports\n",
    "import matplotlib.pyplot as plt\n",
    "\n",
    "# Own imports\n",
    "import utils"
   ]
  },
  {
   "attachments": {},
   "cell_type": "markdown",
   "metadata": {},
   "source": [
    "# 0. Constants"
   ]
  },
  {
   "cell_type": "code",
   "execution_count": 2,
   "metadata": {},
   "outputs": [],
   "source": [
    "BATCH_SIZE = 10\n",
    "LEARNING_RATE = 0.001\n",
    "EPOCHS = 30\n",
    "WIDTH, HEIGHT = 28, 28"
   ]
  },
  {
   "attachments": {},
   "cell_type": "markdown",
   "metadata": {},
   "source": [
    "# 1. Dataset"
   ]
  },
  {
   "cell_type": "code",
   "execution_count": 3,
   "metadata": {},
   "outputs": [],
   "source": [
    "dataset_training = torchvision.datasets.MNIST('./data', download=True, train=True, transform=torchvision.transforms.ToTensor())\n",
    "dataset_test = torchvision.datasets.MNIST('./data', download=True, train=False, transform=torchvision.transforms.ToTensor())"
   ]
  },
  {
   "cell_type": "code",
   "execution_count": 4,
   "metadata": {},
   "outputs": [],
   "source": [
    "dataloader_training = torch.utils.data.DataLoader(dataset_training, batch_size=BATCH_SIZE, shuffle=True)\n",
    "dataloader_test = torch.utils.data.DataLoader(dataset_test, batch_size=BATCH_SIZE, shuffle=True)"
   ]
  },
  {
   "attachments": {},
   "cell_type": "markdown",
   "metadata": {},
   "source": [
    "## 1.1. Dataset Properties"
   ]
  },
  {
   "attachments": {},
   "cell_type": "markdown",
   "metadata": {},
   "source": [
    "### 1.1.1. Length of Datasets"
   ]
  },
  {
   "cell_type": "code",
   "execution_count": 5,
   "metadata": {},
   "outputs": [
    {
     "name": "stdout",
     "output_type": "stream",
     "text": [
      "Length of training dataset: 60000\n",
      "Length of test dataset: 10000\n"
     ]
    }
   ],
   "source": [
    "print(f'Length of training dataset: {len(dataset_training)}')\n",
    "print(f'Length of test dataset: {len(dataset_test)}')"
   ]
  },
  {
   "attachments": {},
   "cell_type": "markdown",
   "metadata": {},
   "source": [
    "### 1.1.2. Value Range"
   ]
  },
  {
   "cell_type": "code",
   "execution_count": 6,
   "metadata": {},
   "outputs": [
    {
     "name": "stdout",
     "output_type": "stream",
     "text": [
      "Min value of images is 0.0\n",
      "Max value of images is 1.0\n"
     ]
    }
   ],
   "source": [
    "image, _ = dataset_training[0]\n",
    "print(f'Min value of images is {image.min()}')\n",
    "print(f'Max value of images is {image.max()}')"
   ]
  },
  {
   "attachments": {},
   "cell_type": "markdown",
   "metadata": {},
   "source": [
    "### 1.1.3. Sample Plots"
   ]
  },
  {
   "cell_type": "code",
   "execution_count": 7,
   "metadata": {},
   "outputs": [
    {
     "data": {
      "image/png": "[encoded data removed]",
      "text/plain": [
       "<Figure size 1000x400 with 10 Axes>"
      ]
     },
     "metadata": {},
     "output_type": "display_data"
    }
   ],
   "source": [
    "# Sample 10 images with labels 0 to 9.\n",
    "samples = utils.sample_MNIST_with_all_labels(dataset_training)\n",
    "\n",
    "# Plot the images.\n",
    "rows, cols = 2, 5\n",
    "plt.figure(figsize=(10, 4))\n",
    "for i in range(rows * cols):\n",
    "    plt.subplot(rows, cols, i+1)\n",
    "    plt.axis('off')\n",
    "    plt.imshow(samples[i].squeeze(), cmap=plt.cm.gray)\n",
    "plt.tight_layout()"
   ]
  },
  {
   "attachments": {},
   "cell_type": "markdown",
   "metadata": {},
   "source": [
    "# 2. Model"
   ]
  },
  {
   "cell_type": "code",
   "execution_count": 8,
   "metadata": {},
   "outputs": [
    {
     "name": "stdout",
     "output_type": "stream",
     "text": [
      "Sequential(\n",
      "  (0): Flatten(start_dim=1, end_dim=-1)\n",
      "  (1): Linear(in_features=784, out_features=10, bias=True)\n",
      "  (2): Softmax(dim=1)\n",
      ")\n"
     ]
    }
   ],
   "source": [
    "model = torch.nn.Sequential(\n",
    "    torch.nn.Flatten(),\n",
    "    torch.nn.Linear(28*28, 10),\n",
    "    torch.nn.Softmax(dim=1)\n",
    ")\n",
    "print(model)"
   ]
  },
  {
   "attachments": {},
   "cell_type": "markdown",
   "metadata": {},
   "source": [
    "## 2.1. Statistics of the Model"
   ]
  },
  {
   "cell_type": "code",
   "execution_count": 9,
   "metadata": {},
   "outputs": [
    {
     "name": "stdout",
     "output_type": "stream",
     "text": [
      "Total number of parameters: 7850\n"
     ]
    }
   ],
   "source": [
    "num_parameters_total = 0\n",
    "for params in model.parameters():\n",
    "    num_parameters = 1\n",
    "    size = params.size()\n",
    "    for dim_size in size:\n",
    "        num_parameters *= dim_size\n",
    "    num_parameters_total += num_parameters\n",
    "print(f'Total number of parameters: {num_parameters_total}')"
   ]
  },
  {
   "attachments": {},
   "cell_type": "markdown",
   "metadata": {},
   "source": [
    "# 2.1. Use the model before training"
   ]
  },
  {
   "cell_type": "code",
   "execution_count": 10,
   "metadata": {},
   "outputs": [
    {
     "data": {
      "image/png": "[encoded data removed]",
      "text/plain": [
       "<Figure size 1000x400 with 10 Axes>"
      ]
     },
     "metadata": {},
     "output_type": "display_data"
    }
   ],
   "source": [
    "# Sample 10 images with labels 0 to 9 from the test dataset.\n",
    "samples = utils.sample_MNIST_with_all_labels(dataset_test)\n",
    "\n",
    "preds = {}\n",
    "for label, image in samples.items():\n",
    "    pred = model(image)\n",
    "    preds[label] = pred.argmax(dim=1)[0].item()\n",
    "\n",
    "# Plot the images with labels.\n",
    "rows, cols = 2, 5\n",
    "plt.figure(figsize=(10, 4))\n",
    "for i in range(rows * cols):\n",
    "    plt.subplot(rows, cols, i+1)\n",
    "    plt.axis('off')\n",
    "    plt.imshow(samples[i].squeeze(), cmap=plt.cm.gray)\n",
    "    plt.title(preds[i])\n",
    "plt.tight_layout()"
   ]
  },
  {
   "attachments": {},
   "cell_type": "markdown",
   "metadata": {},
   "source": [
    "# 3. Training"
   ]
  },
  {
   "attachments": {},
   "cell_type": "markdown",
   "metadata": {},
   "source": [
    "## 3.1. Helper Functions"
   ]
  },
  {
   "cell_type": "code",
   "execution_count": 11,
   "metadata": {},
   "outputs": [],
   "source": [
    "def calculateStatistics(dataloader, model, loss_fn):\n",
    "    with torch.no_grad():\n",
    "        num_batches = len(dataloader)\n",
    "        num_samples = len(dataloader.dataset)\n",
    "        loss, correct = 0, 0\n",
    "\n",
    "        for images, labels in dataloader:\n",
    "            # Make predictions.\n",
    "            preds = model(images)\n",
    "\n",
    "            # Calculate the loss.\n",
    "            loss += loss_fn(preds, labels)\n",
    "\n",
    "            # Calculate the number of correctnesses.\n",
    "            correct += (preds.argmax(dim=1) == labels).type(dtype=torch.float32).sum()\n",
    "\n",
    "        # Calculate the mean loss and correct.\n",
    "        loss /= num_batches\n",
    "        correct /= num_samples\n",
    "\n",
    "    return loss, correct"
   ]
  },
  {
   "attachments": {},
   "cell_type": "markdown",
   "metadata": {},
   "source": [
    "## 3.2. Training"
   ]
  },
  {
   "cell_type": "code",
   "execution_count": 12,
   "metadata": {},
   "outputs": [
    {
     "name": "stdout",
     "output_type": "stream",
     "text": [
      "Training error: loss: 2.301624, accuracy: 11.7%\n",
      "Test error: loss: 2.301825, accuracy: 12.0%\n",
      "loss: 2.286929 [10000 / 60000]\n",
      "loss: 2.256258 [20000 / 60000]\n",
      "loss: 2.238425 [30000 / 60000]\n",
      "loss: 2.242723 [40000 / 60000]\n",
      "loss: 2.264119 [50000 / 60000]\n",
      "loss: 2.249851 [60000 / 60000]\n",
      "Training error: loss: 2.241547, accuracy: 32.4%\n",
      "Test error: loss: 2.165585, accuracy: 50.1%\n",
      "loss: 2.132502 [10000 / 60000]\n",
      "loss: 2.179541 [20000 / 60000]\n",
      "loss: 2.076277 [30000 / 60000]\n",
      "loss: 1.990733 [40000 / 60000]\n",
      "loss: 2.073345 [50000 / 60000]\n",
      "loss: 1.987511 [60000 / 60000]\n",
      "Training error: loss: 2.076272, accuracy: 54.9%\n",
      "Test error: loss: 2.000617, accuracy: 59.4%\n",
      "loss: 1.924268 [10000 / 60000]\n",
      "loss: 1.822447 [20000 / 60000]\n",
      "loss: 2.033299 [30000 / 60000]\n",
      "loss: 2.230985 [40000 / 60000]\n",
      "loss: 1.874231 [50000 / 60000]\n",
      "loss: 1.949329 [60000 / 60000]\n",
      "Training error: loss: 1.953052, accuracy: 64.1%\n",
      "Test error: loss: 1.905879, accuracy: 68.3%\n",
      "loss: 1.826267 [10000 / 60000]\n",
      "loss: 1.905733 [20000 / 60000]\n",
      "loss: 2.139800 [30000 / 60000]\n",
      "loss: 1.957820 [40000 / 60000]\n",
      "loss: 1.777054 [50000 / 60000]\n",
      "loss: 1.827718 [60000 / 60000]\n",
      "Training error: loss: 1.878871, accuracy: 70.2%\n",
      "Test error: loss: 1.847401, accuracy: 72.2%\n",
      "loss: 1.713743 [10000 / 60000]\n",
      "loss: 1.868822 [20000 / 60000]\n",
      "loss: 1.851504 [30000 / 60000]\n",
      "loss: 1.771889 [40000 / 60000]\n",
      "loss: 1.802440 [50000 / 60000]\n",
      "loss: 1.747810 [60000 / 60000]\n",
      "Training error: loss: 1.831409, accuracy: 74.8%\n",
      "Test error: loss: 1.803361, accuracy: 78.7%\n",
      "loss: 1.896826 [10000 / 60000]\n",
      "loss: 1.834260 [20000 / 60000]\n",
      "loss: 1.708769 [30000 / 60000]\n",
      "loss: 1.844124 [40000 / 60000]\n",
      "loss: 1.600965 [50000 / 60000]\n",
      "loss: 1.794438 [60000 / 60000]\n",
      "Training error: loss: 1.796769, accuracy: 78.1%\n",
      "Test error: loss: 1.775235, accuracy: 79.8%\n",
      "loss: 1.628556 [10000 / 60000]\n",
      "loss: 1.754432 [20000 / 60000]\n",
      "loss: 1.749801 [30000 / 60000]\n",
      "loss: 1.784337 [40000 / 60000]\n",
      "loss: 1.795012 [50000 / 60000]\n",
      "loss: 1.871901 [60000 / 60000]\n",
      "Training error: loss: 1.773876, accuracy: 78.9%\n",
      "Test error: loss: 1.755782, accuracy: 80.3%\n",
      "loss: 1.763034 [10000 / 60000]\n",
      "loss: 1.668998 [20000 / 60000]\n",
      "loss: 1.633338 [30000 / 60000]\n",
      "loss: 1.728410 [40000 / 60000]\n",
      "loss: 1.713571 [50000 / 60000]\n",
      "loss: 1.722668 [60000 / 60000]\n",
      "Training error: loss: 1.757318, accuracy: 79.4%\n",
      "Test error: loss: 1.741329, accuracy: 80.7%\n",
      "loss: 1.805997 [10000 / 60000]\n",
      "loss: 1.688554 [20000 / 60000]\n",
      "loss: 1.774356 [30000 / 60000]\n",
      "loss: 1.605419 [40000 / 60000]\n",
      "loss: 1.646204 [50000 / 60000]\n",
      "loss: 1.931826 [60000 / 60000]\n",
      "Training error: loss: 1.744629, accuracy: 79.8%\n",
      "Test error: loss: 1.729945, accuracy: 81.1%\n",
      "loss: 1.690698 [10000 / 60000]\n",
      "loss: 1.870912 [20000 / 60000]\n",
      "loss: 1.892922 [30000 / 60000]\n",
      "loss: 1.736348 [40000 / 60000]\n",
      "loss: 1.801542 [50000 / 60000]\n",
      "loss: 1.801850 [60000 / 60000]\n",
      "Training error: loss: 1.734344, accuracy: 80.1%\n",
      "Test error: loss: 1.720431, accuracy: 81.3%\n",
      "loss: 1.599242 [10000 / 60000]\n",
      "loss: 1.741706 [20000 / 60000]\n",
      "loss: 1.762877 [30000 / 60000]\n",
      "loss: 1.717188 [40000 / 60000]\n",
      "loss: 1.698379 [50000 / 60000]\n",
      "loss: 1.746969 [60000 / 60000]\n",
      "Training error: loss: 1.725282, accuracy: 80.4%\n",
      "Test error: loss: 1.711295, accuracy: 81.8%\n",
      "loss: 1.606033 [10000 / 60000]\n",
      "loss: 1.697468 [20000 / 60000]\n",
      "loss: 1.802173 [30000 / 60000]\n",
      "loss: 1.730173 [40000 / 60000]\n",
      "loss: 1.638122 [50000 / 60000]\n",
      "loss: 1.683236 [60000 / 60000]\n",
      "Training error: loss: 1.714938, accuracy: 81.4%\n",
      "Test error: loss: 1.697820, accuracy: 83.8%\n",
      "loss: 1.579558 [10000 / 60000]\n",
      "loss: 1.803487 [20000 / 60000]\n",
      "loss: 1.797887 [30000 / 60000]\n",
      "loss: 1.734838 [40000 / 60000]\n",
      "loss: 1.783197 [50000 / 60000]\n",
      "loss: 1.727083 [60000 / 60000]\n",
      "Training error: loss: 1.700400, accuracy: 83.9%\n",
      "Test error: loss: 1.683519, accuracy: 86.0%\n",
      "loss: 1.810912 [10000 / 60000]\n",
      "loss: 1.520880 [20000 / 60000]\n",
      "loss: 1.726747 [30000 / 60000]\n",
      "loss: 1.702770 [40000 / 60000]\n",
      "loss: 1.748919 [50000 / 60000]\n",
      "loss: 1.606680 [60000 / 60000]\n",
      "Training error: loss: 1.688810, accuracy: 85.3%\n",
      "Test error: loss: 1.673819, accuracy: 86.7%\n",
      "loss: 1.773808 [10000 / 60000]\n",
      "loss: 1.733460 [20000 / 60000]\n",
      "loss: 1.972368 [30000 / 60000]\n",
      "loss: 1.638350 [40000 / 60000]\n",
      "loss: 1.702522 [50000 / 60000]\n",
      "loss: 1.730207 [60000 / 60000]\n",
      "Training error: loss: 1.679716, accuracy: 86.0%\n",
      "Test error: loss: 1.665807, accuracy: 87.2%\n",
      "loss: 1.803368 [10000 / 60000]\n",
      "loss: 1.747206 [20000 / 60000]\n",
      "loss: 1.693250 [30000 / 60000]\n",
      "loss: 1.651338 [40000 / 60000]\n",
      "loss: 1.692550 [50000 / 60000]\n",
      "loss: 1.762042 [60000 / 60000]\n",
      "Training error: loss: 1.672184, accuracy: 86.4%\n",
      "Test error: loss: 1.659178, accuracy: 87.5%\n",
      "loss: 1.670665 [10000 / 60000]\n",
      "loss: 1.686404 [20000 / 60000]\n",
      "loss: 1.633057 [30000 / 60000]\n",
      "loss: 1.676089 [40000 / 60000]\n",
      "loss: 1.691028 [50000 / 60000]\n",
      "loss: 1.538684 [60000 / 60000]\n",
      "Training error: loss: 1.665871, accuracy: 86.7%\n",
      "Test error: loss: 1.653526, accuracy: 87.8%\n",
      "loss: 1.594836 [10000 / 60000]\n",
      "loss: 1.648746 [20000 / 60000]\n",
      "loss: 1.647122 [30000 / 60000]\n",
      "loss: 1.615181 [40000 / 60000]\n",
      "loss: 1.603304 [50000 / 60000]\n",
      "loss: 1.743748 [60000 / 60000]\n",
      "Training error: loss: 1.660480, accuracy: 87.0%\n",
      "Test error: loss: 1.648679, accuracy: 88.0%\n",
      "loss: 1.547989 [10000 / 60000]\n",
      "loss: 1.514645 [20000 / 60000]\n",
      "loss: 1.781404 [30000 / 60000]\n",
      "loss: 1.595846 [40000 / 60000]\n",
      "loss: 1.540998 [50000 / 60000]\n",
      "loss: 1.702825 [60000 / 60000]\n",
      "Training error: loss: 1.655796, accuracy: 87.1%\n",
      "Test error: loss: 1.644410, accuracy: 88.3%\n",
      "loss: 1.561448 [10000 / 60000]\n",
      "loss: 1.603479 [20000 / 60000]\n",
      "loss: 1.744888 [30000 / 60000]\n",
      "loss: 1.839573 [40000 / 60000]\n",
      "loss: 1.687731 [50000 / 60000]\n",
      "loss: 1.568173 [60000 / 60000]\n",
      "Training error: loss: 1.651660, accuracy: 87.4%\n",
      "Test error: loss: 1.640621, accuracy: 88.5%\n",
      "loss: 1.625113 [10000 / 60000]\n",
      "loss: 1.641977 [20000 / 60000]\n",
      "loss: 1.588202 [30000 / 60000]\n",
      "loss: 1.508332 [40000 / 60000]\n",
      "loss: 1.644022 [50000 / 60000]\n",
      "loss: 1.665903 [60000 / 60000]\n",
      "Training error: loss: 1.647976, accuracy: 87.5%\n",
      "Test error: loss: 1.637200, accuracy: 88.7%\n",
      "loss: 1.523177 [10000 / 60000]\n",
      "loss: 1.774806 [20000 / 60000]\n",
      "loss: 1.587813 [30000 / 60000]\n",
      "loss: 1.656168 [40000 / 60000]\n",
      "loss: 1.644041 [50000 / 60000]\n",
      "loss: 1.575605 [60000 / 60000]\n",
      "Training error: loss: 1.644649, accuracy: 87.7%\n",
      "Test error: loss: 1.634072, accuracy: 88.8%\n",
      "loss: 1.597434 [10000 / 60000]\n",
      "loss: 1.822078 [20000 / 60000]\n",
      "loss: 1.709179 [30000 / 60000]\n",
      "loss: 1.567843 [40000 / 60000]\n",
      "loss: 1.749967 [50000 / 60000]\n",
      "loss: 1.576527 [60000 / 60000]\n",
      "Training error: loss: 1.641624, accuracy: 87.8%\n",
      "Test error: loss: 1.631248, accuracy: 88.9%\n",
      "loss: 1.921661 [10000 / 60000]\n",
      "loss: 1.688338 [20000 / 60000]\n",
      "loss: 1.548703 [30000 / 60000]\n",
      "loss: 1.614456 [40000 / 60000]\n",
      "loss: 1.617257 [50000 / 60000]\n",
      "loss: 1.566995 [60000 / 60000]\n",
      "Training error: loss: 1.638850, accuracy: 87.9%\n",
      "Test error: loss: 1.628639, accuracy: 89.0%\n",
      "loss: 1.773565 [10000 / 60000]\n",
      "loss: 1.690187 [20000 / 60000]\n",
      "loss: 1.546853 [30000 / 60000]\n",
      "loss: 1.537150 [40000 / 60000]\n",
      "loss: 1.675579 [50000 / 60000]\n",
      "loss: 1.778404 [60000 / 60000]\n",
      "Training error: loss: 1.636301, accuracy: 88.0%\n",
      "Test error: loss: 1.626242, accuracy: 89.1%\n",
      "loss: 1.622164 [10000 / 60000]\n",
      "loss: 1.644072 [20000 / 60000]\n",
      "loss: 1.718026 [30000 / 60000]\n",
      "loss: 1.719776 [40000 / 60000]\n",
      "loss: 1.716954 [50000 / 60000]\n",
      "loss: 1.529761 [60000 / 60000]\n",
      "Training error: loss: 1.633935, accuracy: 88.1%\n",
      "Test error: loss: 1.624035, accuracy: 89.1%\n",
      "loss: 1.668662 [10000 / 60000]\n",
      "loss: 1.724640 [20000 / 60000]\n",
      "loss: 1.607804 [30000 / 60000]\n",
      "loss: 1.653927 [40000 / 60000]\n",
      "loss: 1.660406 [50000 / 60000]\n",
      "loss: 1.529197 [60000 / 60000]\n",
      "Training error: loss: 1.631740, accuracy: 88.2%\n",
      "Test error: loss: 1.621960, accuracy: 89.2%\n",
      "loss: 1.569391 [10000 / 60000]\n",
      "loss: 1.635266 [20000 / 60000]\n",
      "loss: 1.535398 [30000 / 60000]\n",
      "loss: 1.657880 [40000 / 60000]\n",
      "loss: 1.651256 [50000 / 60000]\n",
      "loss: 1.500578 [60000 / 60000]\n",
      "Training error: loss: 1.629687, accuracy: 88.3%\n",
      "Test error: loss: 1.620027, accuracy: 89.3%\n",
      "loss: 1.592993 [10000 / 60000]\n",
      "loss: 1.520870 [20000 / 60000]\n",
      "loss: 1.553363 [30000 / 60000]\n",
      "loss: 1.620970 [40000 / 60000]\n",
      "loss: 1.644479 [50000 / 60000]\n",
      "loss: 1.700049 [60000 / 60000]\n",
      "Training error: loss: 1.627767, accuracy: 88.4%\n",
      "Test error: loss: 1.618216, accuracy: 89.4%\n",
      "loss: 1.587147 [10000 / 60000]\n",
      "loss: 1.762905 [20000 / 60000]\n",
      "loss: 1.628721 [30000 / 60000]\n",
      "loss: 1.551567 [40000 / 60000]\n",
      "loss: 1.553550 [50000 / 60000]\n",
      "loss: 1.615840 [60000 / 60000]\n",
      "Training error: loss: 1.625958, accuracy: 88.5%\n",
      "Test error: loss: 1.616532, accuracy: 89.5%\n"
     ]
    }
   ],
   "source": [
    "loss_fn = torch.nn.CrossEntropyLoss()\n",
    "optimizer = torch.optim.SGD(model.parameters(), LEARNING_RATE)\n",
    "\n",
    "# Define losses and corrects for training and test.\n",
    "losses, corrects = [], []\n",
    "losses_test, corrects_test = [], []\n",
    "\n",
    "# Calculate losses and corrects before training.\n",
    "loss, correct = calculateStatistics(dataloader_training, model, loss_fn)\n",
    "losses.append(loss)\n",
    "corrects.append(correct)\n",
    "loss_test, correct_test = calculateStatistics(dataloader_test, model, loss_fn)\n",
    "losses_test.append(loss)\n",
    "corrects_test.append(correct_test)\n",
    "\n",
    "# Print statistics.\n",
    "print(f'Training error: loss: {loss:>7f}, accuracy: {correct*100:>0.1f}%')\n",
    "print(f'Test error: loss: {loss_test:>7f}, accuracy: {correct_test*100:>0.1f}%')\n",
    "\n",
    "# Run epochs.\n",
    "for epoch in range(EPOCHS):\n",
    "\n",
    "    # Run one epoch for training.\n",
    "    num_batches = len(dataloader_training)\n",
    "    num_samples = len(dataloader_training.dataset)\n",
    "    loss_epoch, correct_epoch = 0, 0\n",
    "    for batch, [images, labels] in enumerate(dataloader_training):\n",
    "        # Make predictions.\n",
    "        pred = model(images)\n",
    "\n",
    "        # Calculate the loss.\n",
    "        loss = loss_fn(pred, labels)\n",
    "        loss_epoch += loss.item()\n",
    "\n",
    "        # Calculate the number of correctness.\n",
    "        correct_epoch += (pred.argmax(dim=1) == labels).type(dtype=torch.float32).sum().item()\n",
    "\n",
    "        # Back propagation.\n",
    "        optimizer.zero_grad()\n",
    "        loss.backward()\n",
    "        optimizer.step()\n",
    "\n",
    "        if (batch + 1) % 1000 == 0:\n",
    "            loss, size_current, size_total = loss.item(), (batch+1)*BATCH_SIZE, len(dataloader_training.dataset)\n",
    "            print(f'loss: {loss:>7f} [{size_current:>5d} / {size_total:>5d}]')\n",
    "        \n",
    "    # Calculate the mean loss across all batches.\n",
    "    loss_epoch /= num_batches\n",
    "    losses.append(loss_epoch)\n",
    "\n",
    "    # Calculate the mean number of correctness across all batches.\n",
    "    correct_epoch /= num_samples\n",
    "    corrects.append(correct_epoch)\n",
    "\n",
    "    # Print statistics of the training part of the epoch.\n",
    "    print(f'Training error: loss: {loss_epoch:>7f}, accuracy: {correct_epoch*100:>0.1f}%')\n",
    "\n",
    "    # Calculate loss and correct for test.\n",
    "    loss_test, correct_test = calculateStatistics(dataloader_test, model, loss_fn)\n",
    "    losses_test.append(loss_test)\n",
    "    corrects_test.append(correct_test)\n",
    "\n",
    "    # Print statistics of the test part of the epoch.\n",
    "    print(f'Test error: loss: {loss_test:>7f}, accuracy: {correct_test*100:>0.1f}%')\n"
   ]
  },
  {
   "attachments": {},
   "cell_type": "markdown",
   "metadata": {},
   "source": [
    "## 3.1. Visualization of the training process"
   ]
  },
  {
   "cell_type": "code",
   "execution_count": 13,
   "metadata": {},
   "outputs": [
    {
     "data": {
      "image/png": "[encoded data removed]",
      "text/plain": [
       "<Figure size 640x480 with 4 Axes>"
      ]
     },
     "metadata": {},
     "output_type": "display_data"
    }
   ],
   "source": [
    "fig, ((ax11, ax12), (ax21, ax22)) = plt.subplots(2,2)\n",
    "\n",
    "ax11.plot(losses)\n",
    "ax11.set_title('losses (training)')\n",
    "ax12.plot(corrects)\n",
    "ax12.set_title('accuracy (training)')\n",
    "ax21.plot(losses_test)\n",
    "ax21.set_title('losses (test)')\n",
    "ax22.plot(corrects_test)\n",
    "ax22.set_title('accuracy (test)')\n",
    "\n",
    "plt.show()"
   ]
  },
  {
   "attachments": {},
   "cell_type": "markdown",
   "metadata": {},
   "source": [
    "# 4. Use"
   ]
  },
  {
   "cell_type": "code",
   "execution_count": 14,
   "metadata": {},
   "outputs": [
    {
     "data": {
      "image/png": "[encoded data removed]",
      "text/plain": [
       "<Figure size 1000x400 with 10 Axes>"
      ]
     },
     "metadata": {},
     "output_type": "display_data"
    }
   ],
   "source": [
    "# Sample 10 images with labels 0 to 9 from the test dataset.\n",
    "samples = utils.sample_MNIST_with_all_labels(dataset_test)\n",
    "\n",
    "preds = {}\n",
    "for label, image in samples.items():\n",
    "    pred = model(image)\n",
    "    preds[label] = pred.argmax(dim=1)[0].item()\n",
    "\n",
    "# Plot the images with labels.\n",
    "rows, cols = 2, 5\n",
    "plt.figure(figsize=(10, 4))\n",
    "for i in range(rows * cols):\n",
    "    plt.subplot(rows, cols, i+1)\n",
    "    plt.axis('off')\n",
    "    plt.imshow(samples[i].squeeze(), cmap=plt.cm.gray)\n",
    "    plt.title(preds[i])\n",
    "plt.tight_layout()"
   ]
  }
 ],
 "metadata": {
  "kernelspec": {
   "display_name": "base",
   "language": "python",
   "name": "python3"
  },
  "language_info": {
   "codemirror_mode": {
    "name": "ipython",
    "version": 3
   },
   "file_extension": ".py",
   "mimetype": "text/x-python",
   "name": "python",
   "nbconvert_exporter": "python",
   "pygments_lexer": "ipython3",
   "version": "3.9.13"
  },
  "orig_nbformat": 4
 },
 "nbformat": 4,
 "nbformat_minor": 2
}
