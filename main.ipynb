{
 "cells": [
  {
   "cell_type": "code",
   "execution_count": 1,
   "metadata": {},
   "outputs": [],
   "source": [
    "# Python imports\n",
    "import sys\n",
    "\n",
    "# PyTorch imports\n",
    "import torch\n",
    "import torchvision\n",
    "\n",
    "# Third-party imports\n",
    "import matplotlib.pyplot as plt\n",
    "\n",
    "# Own imports\n",
    "import utils"
   ]
  },
  {
   "attachments": {},
   "cell_type": "markdown",
   "metadata": {},
   "source": [
    "# 0. Constants"
   ]
  },
  {
   "cell_type": "code",
   "execution_count": 2,
   "metadata": {},
   "outputs": [],
   "source": [
    "BATCH_SIZE = 10\n",
    "LEARNING_RATE = 0.001\n",
    "EPOCHS = 10\n",
    "WIDTH, HEIGHT = 28, 28"
   ]
  },
  {
   "attachments": {},
   "cell_type": "markdown",
   "metadata": {},
   "source": [
    "# 1. Dataset"
   ]
  },
  {
   "cell_type": "code",
   "execution_count": 3,
   "metadata": {},
   "outputs": [],
   "source": [
    "dataset_training = torchvision.datasets.MNIST('./data', download=True, train=True, transform=torchvision.transforms.ToTensor())\n",
    "dataset_test = torchvision.datasets.MNIST('./data', download=True, train=False, transform=torchvision.transforms.ToTensor())"
   ]
  },
  {
   "cell_type": "code",
   "execution_count": 4,
   "metadata": {},
   "outputs": [],
   "source": [
    "dataloader_training = torch.utils.data.DataLoader(dataset_training, batch_size=BATCH_SIZE, shuffle=True)\n",
    "dataloader_test = torch.utils.data.DataLoader(dataset_test, batch_size=BATCH_SIZE, shuffle=True)"
   ]
  },
  {
   "attachments": {},
   "cell_type": "markdown",
   "metadata": {},
   "source": [
    "## 1.1. Dataset Properties"
   ]
  },
  {
   "attachments": {},
   "cell_type": "markdown",
   "metadata": {},
   "source": [
    "### 1.1.1. Length of Datasets"
   ]
  },
  {
   "cell_type": "code",
   "execution_count": 5,
   "metadata": {},
   "outputs": [
    {
     "name": "stdout",
     "output_type": "stream",
     "text": [
      "Length of training dataset: 60000\n",
      "Length of test dataset: 10000\n"
     ]
    }
   ],
   "source": [
    "print(f'Length of training dataset: {len(dataset_training)}')\n",
    "print(f'Length of test dataset: {len(dataset_test)}')"
   ]
  },
  {
   "attachments": {},
   "cell_type": "markdown",
   "metadata": {},
   "source": [
    "### 1.1.2. Value Range"
   ]
  },
  {
   "cell_type": "code",
   "execution_count": 6,
   "metadata": {},
   "outputs": [
    {
     "name": "stdout",
     "output_type": "stream",
     "text": [
      "Min value of images is 0.0\n",
      "Max value of images is 1.0\n"
     ]
    }
   ],
   "source": [
    "image, _ = dataset_training[0]\n",
    "print(f'Min value of images is {image.min()}')\n",
    "print(f'Max value of images is {image.max()}')"
   ]
  },
  {
   "attachments": {},
   "cell_type": "markdown",
   "metadata": {},
   "source": [
    "### 1.1.3. Sample Plots"
   ]
  },
  {
   "cell_type": "code",
   "execution_count": 7,
   "metadata": {},
   "outputs": [
    {
     "data": {
      "image/png": "[encoded data removed]",
      "text/plain": [
       "<Figure size 1000x400 with 10 Axes>"
      ]
     },
     "metadata": {},
     "output_type": "display_data"
    }
   ],
   "source": [
    "# Sample 10 images with labels 0 to 9.\n",
    "samples = utils.sample_MNIST_with_all_labels(dataset_training)\n",
    "\n",
    "# Plot the images.\n",
    "rows, cols = 2, 5\n",
    "plt.figure(figsize=(10, 4))\n",
    "for i in range(rows * cols):\n",
    "    plt.subplot(rows, cols, i+1)\n",
    "    plt.axis('off')\n",
    "    plt.imshow(samples[i].squeeze(), cmap=plt.cm.gray)\n",
    "plt.tight_layout()"
   ]
  },
  {
   "attachments": {},
   "cell_type": "markdown",
   "metadata": {},
   "source": [
    "# 2. Model"
   ]
  },
  {
   "cell_type": "code",
   "execution_count": 8,
   "metadata": {},
   "outputs": [
    {
     "name": "stdout",
     "output_type": "stream",
     "text": [
      "Sequential(\n",
      "  (0): Flatten(start_dim=1, end_dim=-1)\n",
      "  (1): Linear(in_features=784, out_features=10, bias=True)\n",
      "  (2): Softmax(dim=1)\n",
      ")\n"
     ]
    }
   ],
   "source": [
    "model = torch.nn.Sequential(\n",
    "    torch.nn.Flatten(),\n",
    "    torch.nn.Linear(28*28, 10),\n",
    "    torch.nn.Softmax(dim=1)\n",
    ")\n",
    "print(model)"
   ]
  },
  {
   "attachments": {},
   "cell_type": "markdown",
   "metadata": {},
   "source": [
    "## 2.1. Statistics of the Model"
   ]
  },
  {
   "cell_type": "code",
   "execution_count": 9,
   "metadata": {},
   "outputs": [
    {
     "name": "stdout",
     "output_type": "stream",
     "text": [
      "Total number of parameters: 7850\n"
     ]
    }
   ],
   "source": [
    "num_parameters_total = 0\n",
    "for params in model.parameters():\n",
    "    num_parameters = 1\n",
    "    size = params.size()\n",
    "    for dim_size in size:\n",
    "        num_parameters *= dim_size\n",
    "    num_parameters_total += num_parameters\n",
    "print(f'Total number of parameters: {num_parameters_total}')"
   ]
  },
  {
   "attachments": {},
   "cell_type": "markdown",
   "metadata": {},
   "source": [
    "# 2.1. Use the model before training"
   ]
  },
  {
   "cell_type": "code",
   "execution_count": 10,
   "metadata": {},
   "outputs": [
    {
     "data": {
      "image/png": "[encoded data removed]",
      "text/plain": [
       "<Figure size 1000x400 with 10 Axes>"
      ]
     },
     "metadata": {},
     "output_type": "display_data"
    }
   ],
   "source": [
    "# Sample 10 images with labels 0 to 9 from the test dataset.\n",
    "samples = utils.sample_MNIST_with_all_labels(dataset_test)\n",
    "\n",
    "preds = {}\n",
    "for label, image in samples.items():\n",
    "    pred = model(image)\n",
    "    preds[label] = pred.argmax(dim=1)[0].item()\n",
    "\n",
    "# Plot the images with labels.\n",
    "rows, cols = 2, 5\n",
    "plt.figure(figsize=(10, 4))\n",
    "for i in range(rows * cols):\n",
    "    plt.subplot(rows, cols, i+1)\n",
    "    plt.axis('off')\n",
    "    plt.imshow(samples[i].squeeze(), cmap=plt.cm.gray)\n",
    "    plt.title(preds[i])\n",
    "plt.tight_layout()"
   ]
  },
  {
   "attachments": {},
   "cell_type": "markdown",
   "metadata": {},
   "source": [
    "# 3. Training"
   ]
  },
  {
   "attachments": {},
   "cell_type": "markdown",
   "metadata": {},
   "source": [
    "## 3.1. Helper Functions"
   ]
  },
  {
   "cell_type": "code",
   "execution_count": 11,
   "metadata": {},
   "outputs": [],
   "source": [
    "def calculateStatistics(dataloader, model, loss_fn):\n",
    "    with torch.no_grad():\n",
    "        num_batches = len(dataloader)\n",
    "        num_samples = len(dataloader.dataset)\n",
    "        loss, correct = 0, 0\n",
    "\n",
    "        for images, labels in dataloader:\n",
    "            # Make predictions.\n",
    "            preds = model(images)\n",
    "\n",
    "            # Calculate the loss.\n",
    "            loss += loss_fn(preds, labels)\n",
    "\n",
    "            # Calculate the number of correctnesses.\n",
    "            correct += (preds.argmax(dim=1) == labels).type(dtype=torch.float32).sum()\n",
    "\n",
    "        # Calculate the mean loss and correct.\n",
    "        loss /= num_batches\n",
    "        correct /= num_samples\n",
    "\n",
    "    return loss, correct"
   ]
  },
  {
   "attachments": {},
   "cell_type": "markdown",
   "metadata": {},
   "source": [
    "## 3.2. Training"
   ]
  },
  {
   "cell_type": "code",
   "execution_count": 12,
   "metadata": {},
   "outputs": [
    {
     "name": "stdout",
     "output_type": "stream",
     "text": [
      "Training error: loss: 2.300413, accuracy: 10.3%\n",
      "Test error: loss: 2.300671, accuracy: 10.3%\n",
      "loss: 2.296065 [10000 / 60000]\n",
      "loss: 2.275414 [20000 / 60000]\n",
      "loss: 2.264948 [30000 / 60000]\n",
      "loss: 2.254268 [40000 / 60000]\n",
      "loss: 2.171085 [50000 / 60000]\n",
      "loss: 2.204207 [60000 / 60000]\n",
      "Training error: loss: 2.238284, accuracy: 44.3%\n",
      "Test error: loss: 2.151795, accuracy: 54.6%\n",
      "loss: 2.179443 [10000 / 60000]\n",
      "loss: 2.025906 [20000 / 60000]\n",
      "loss: 1.973395 [30000 / 60000]\n",
      "loss: 1.982497 [40000 / 60000]\n",
      "loss: 2.134313 [50000 / 60000]\n",
      "loss: 2.070563 [60000 / 60000]\n",
      "Training error: loss: 2.060709, accuracy: 59.1%\n",
      "Test error: loss: 1.981271, accuracy: 65.9%\n",
      "loss: 2.035316 [10000 / 60000]\n",
      "loss: 1.877367 [20000 / 60000]\n",
      "loss: 1.986136 [30000 / 60000]\n",
      "loss: 1.887539 [40000 / 60000]\n",
      "loss: 1.922721 [50000 / 60000]\n",
      "loss: 1.952515 [60000 / 60000]\n",
      "Training error: loss: 1.933592, accuracy: 69.0%\n",
      "Test error: loss: 1.887982, accuracy: 71.4%\n",
      "loss: 1.831967 [10000 / 60000]\n",
      "loss: 1.870455 [20000 / 60000]\n",
      "loss: 1.631934 [30000 / 60000]\n",
      "loss: 2.015049 [40000 / 60000]\n",
      "loss: 1.759179 [50000 / 60000]\n",
      "loss: 1.897814 [60000 / 60000]\n",
      "Training error: loss: 1.868588, accuracy: 71.1%\n",
      "Test error: loss: 1.843069, accuracy: 72.2%\n",
      "loss: 1.980785 [10000 / 60000]\n",
      "loss: 1.827094 [20000 / 60000]\n",
      "loss: 1.935957 [30000 / 60000]\n",
      "loss: 1.712188 [40000 / 60000]\n",
      "loss: 1.685897 [50000 / 60000]\n",
      "loss: 1.879724 [60000 / 60000]\n",
      "Training error: loss: 1.834700, accuracy: 71.7%\n",
      "Test error: loss: 1.816469, accuracy: 72.8%\n",
      "loss: 1.758430 [10000 / 60000]\n",
      "loss: 1.786939 [20000 / 60000]\n",
      "loss: 1.637696 [30000 / 60000]\n",
      "loss: 1.732411 [40000 / 60000]\n",
      "loss: 1.728023 [50000 / 60000]\n",
      "loss: 1.727103 [60000 / 60000]\n",
      "Training error: loss: 1.811699, accuracy: 72.4%\n",
      "Test error: loss: 1.792606, accuracy: 74.6%\n",
      "loss: 1.823447 [10000 / 60000]\n",
      "loss: 1.758085 [20000 / 60000]\n",
      "loss: 1.949400 [30000 / 60000]\n",
      "loss: 1.852434 [40000 / 60000]\n",
      "loss: 1.889377 [50000 / 60000]\n",
      "loss: 1.684922 [60000 / 60000]\n",
      "Training error: loss: 1.785712, accuracy: 76.9%\n",
      "Test error: loss: 1.764767, accuracy: 79.9%\n",
      "loss: 1.779489 [10000 / 60000]\n",
      "loss: 2.001431 [20000 / 60000]\n",
      "loss: 1.679794 [30000 / 60000]\n",
      "loss: 1.686910 [40000 / 60000]\n",
      "loss: 1.594200 [50000 / 60000]\n",
      "loss: 1.805257 [60000 / 60000]\n",
      "Training error: loss: 1.765053, accuracy: 79.1%\n",
      "Test error: loss: 1.747907, accuracy: 80.5%\n",
      "loss: 1.680017 [10000 / 60000]\n",
      "loss: 1.779513 [20000 / 60000]\n",
      "loss: 1.707640 [30000 / 60000]\n",
      "loss: 1.781253 [40000 / 60000]\n",
      "loss: 1.863187 [50000 / 60000]\n",
      "loss: 1.898392 [60000 / 60000]\n",
      "Training error: loss: 1.750670, accuracy: 79.6%\n",
      "Test error: loss: 1.735276, accuracy: 80.8%\n",
      "loss: 1.695428 [10000 / 60000]\n",
      "loss: 2.058892 [20000 / 60000]\n",
      "loss: 1.998154 [30000 / 60000]\n",
      "loss: 1.664481 [40000 / 60000]\n",
      "loss: 1.553616 [50000 / 60000]\n",
      "loss: 1.682773 [60000 / 60000]\n",
      "Training error: loss: 1.739538, accuracy: 79.9%\n",
      "Test error: loss: 1.725375, accuracy: 81.2%\n"
     ]
    }
   ],
   "source": [
    "loss_fn = torch.nn.CrossEntropyLoss()\n",
    "optimizer = torch.optim.SGD(model.parameters(), LEARNING_RATE)\n",
    "\n",
    "# Define losses and corrects for training and test.\n",
    "losses, corrects = [], []\n",
    "losses_test, corrects_test = [], []\n",
    "\n",
    "# Calculate losses and corrects before training.\n",
    "loss, correct = calculateStatistics(dataloader_training, model, loss_fn)\n",
    "losses.append(loss)\n",
    "corrects.append(correct)\n",
    "loss_test, correct_test = calculateStatistics(dataloader_test, model, loss_fn)\n",
    "losses_test.append(loss)\n",
    "corrects_test.append(correct_test)\n",
    "\n",
    "# Print statistics.\n",
    "print(f'Training error: loss: {loss:>7f}, accuracy: {correct*100:>0.1f}%')\n",
    "print(f'Test error: loss: {loss_test:>7f}, accuracy: {correct_test*100:>0.1f}%')\n",
    "\n",
    "# Run epochs.\n",
    "for epoch in range(EPOCHS):\n",
    "\n",
    "    # Run one epoch for training.\n",
    "    num_batches = len(dataloader_training)\n",
    "    num_samples = len(dataloader_training.dataset)\n",
    "    loss_epoch, correct_epoch = 0, 0\n",
    "    for batch, [images, labels] in enumerate(dataloader_training):\n",
    "        # Make predictions.\n",
    "        pred = model(images)\n",
    "\n",
    "        # Calculate the loss.\n",
    "        loss = loss_fn(pred, labels)\n",
    "        loss_epoch += loss.item()\n",
    "\n",
    "        # Calculate the number of correctness.\n",
    "        correct_epoch += (pred.argmax(dim=1) == labels).type(dtype=torch.float32).sum().item()\n",
    "\n",
    "        # Back propagation.\n",
    "        optimizer.zero_grad()\n",
    "        loss.backward()\n",
    "        optimizer.step()\n",
    "\n",
    "        if (batch + 1) % 1000 == 0:\n",
    "            loss, size_current, size_total = loss.item(), (batch+1)*BATCH_SIZE, len(dataloader_training.dataset)\n",
    "            print(f'loss: {loss:>7f} [{size_current:>5d} / {size_total:>5d}]')\n",
    "        \n",
    "    # Calculate the mean loss across all batches.\n",
    "    loss_epoch /= num_batches\n",
    "    losses.append(loss_epoch)\n",
    "\n",
    "    # Calculate the mean number of correctness across all batches.\n",
    "    correct_epoch /= num_samples\n",
    "    corrects.append(correct_epoch)\n",
    "\n",
    "    # Print statistics of the training part of the epoch.\n",
    "    print(f'Training error: loss: {loss_epoch:>7f}, accuracy: {correct_epoch*100:>0.1f}%')\n",
    "\n",
    "    # Calculate loss and correct for test.\n",
    "    loss_test, correct_test = calculateStatistics(dataloader_test, model, loss_fn)\n",
    "    losses_test.append(loss_test)\n",
    "    corrects_test.append(correct_test)\n",
    "\n",
    "    # Print statistics of the test part of the epoch.\n",
    "    print(f'Test error: loss: {loss_test:>7f}, accuracy: {correct_test*100:>0.1f}%')\n"
   ]
  },
  {
   "attachments": {},
   "cell_type": "markdown",
   "metadata": {},
   "source": [
    "## 3.1. Visualization of the training process"
   ]
  },
  {
   "cell_type": "code",
   "execution_count": 13,
   "metadata": {},
   "outputs": [
    {
     "data": {
      "image/png": "[encoded data removed]",
      "text/plain": [
       "<Figure size 640x480 with 4 Axes>"
      ]
     },
     "metadata": {},
     "output_type": "display_data"
    }
   ],
   "source": [
    "fig, ((ax11, ax12), (ax21, ax22)) = plt.subplots(2,2)\n",
    "\n",
    "ax11.plot(losses)\n",
    "ax11.set_title('losses (training)')\n",
    "ax12.plot(corrects)\n",
    "ax12.set_title('accuracy (training)')\n",
    "ax21.plot(losses_test)\n",
    "ax21.set_title('losses (test)')\n",
    "ax22.plot(corrects_test)\n",
    "ax22.set_title('accuracy (test)')\n",
    "\n",
    "plt.show()"
   ]
  },
  {
   "attachments": {},
   "cell_type": "markdown",
   "metadata": {},
   "source": [
    "# 4. Use"
   ]
  },
  {
   "cell_type": "code",
   "execution_count": 14,
   "metadata": {},
   "outputs": [
    {
     "data": {
      "image/png": "[encoded data removed]",
      "text/plain": [
       "<Figure size 1000x400 with 10 Axes>"
      ]
     },
     "metadata": {},
     "output_type": "display_data"
    }
   ],
   "source": [
    "# Sample 10 images with labels 0 to 9 from the test dataset.\n",
    "samples = utils.sample_MNIST_with_all_labels(dataset_test)\n",
    "\n",
    "preds = {}\n",
    "for label, image in samples.items():\n",
    "    pred = model(image)\n",
    "    preds[label] = pred.argmax(dim=1)[0].item()\n",
    "\n",
    "# Plot the images with labels.\n",
    "rows, cols = 2, 5\n",
    "plt.figure(figsize=(10, 4))\n",
    "for i in range(rows * cols):\n",
    "    plt.subplot(rows, cols, i+1)\n",
    "    plt.axis('off')\n",
    "    plt.imshow(samples[i].squeeze(), cmap=plt.cm.gray)\n",
    "    plt.title(preds[i])\n",
    "plt.tight_layout()"
   ]
  }
 ],
 "metadata": {
  "kernelspec": {
   "display_name": "base",
   "language": "python",
   "name": "python3"
  },
  "language_info": {
   "codemirror_mode": {
    "name": "ipython",
    "version": 3
   },
   "file_extension": ".py",
   "mimetype": "text/x-python",
   "name": "python",
   "nbconvert_exporter": "python",
   "pygments_lexer": "ipython3",
   "version": "3.9.13"
  },
  "orig_nbformat": 4
 },
 "nbformat": 4,
 "nbformat_minor": 2
}
