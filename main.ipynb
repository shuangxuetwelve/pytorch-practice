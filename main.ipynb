{
 "cells": [
  {
   "cell_type": "code",
   "execution_count": 1,
   "metadata": {},
   "outputs": [],
   "source": [
    "# Python imports\n",
    "import sys\n",
    "\n",
    "# PyTorch imports\n",
    "import torch\n",
    "import torchvision\n",
    "\n",
    "# Third-party imports\n",
    "import matplotlib.pyplot as plt\n",
    "\n",
    "# Own imports\n",
    "import utils"
   ]
  },
  {
   "attachments": {},
   "cell_type": "markdown",
   "metadata": {},
   "source": [
    "# 0. Constants"
   ]
  },
  {
   "cell_type": "code",
   "execution_count": 2,
   "metadata": {},
   "outputs": [],
   "source": [
    "BATCH_SIZE = 10\n",
    "LEARNING_RATE = 0.001\n",
    "EPOCHS = 10"
   ]
  },
  {
   "attachments": {},
   "cell_type": "markdown",
   "metadata": {},
   "source": [
    "# 1. Dataset"
   ]
  },
  {
   "cell_type": "code",
   "execution_count": 3,
   "metadata": {},
   "outputs": [],
   "source": [
    "dataset_training = torchvision.datasets.MNIST('./data', download=True, train=True, transform=torchvision.transforms.ToTensor())\n",
    "dataset_test = torchvision.datasets.MNIST('./data', download=True, train=False, transform=torchvision.transforms.ToTensor())"
   ]
  },
  {
   "cell_type": "code",
   "execution_count": 4,
   "metadata": {},
   "outputs": [],
   "source": [
    "dataloader_training = torch.utils.data.DataLoader(dataset_training, batch_size=BATCH_SIZE, shuffle=True)\n",
    "dataloader_test = torch.utils.data.DataLoader(dataset_test, batch_size=BATCH_SIZE, shuffle=True)"
   ]
  },
  {
   "attachments": {},
   "cell_type": "markdown",
   "metadata": {},
   "source": [
    "## 1.1. Dataset Properties"
   ]
  },
  {
   "attachments": {},
   "cell_type": "markdown",
   "metadata": {},
   "source": [
    "### 1.1.1. Length of Datasets"
   ]
  },
  {
   "cell_type": "code",
   "execution_count": 5,
   "metadata": {},
   "outputs": [
    {
     "name": "stdout",
     "output_type": "stream",
     "text": [
      "Length of training dataset: 60000\n",
      "Length of test dataset: 10000\n"
     ]
    }
   ],
   "source": [
    "print(f'Length of training dataset: {len(dataset_training)}')\n",
    "print(f'Length of test dataset: {len(dataset_test)}')"
   ]
  },
  {
   "attachments": {},
   "cell_type": "markdown",
   "metadata": {},
   "source": [
    "### 1.1.2. Value Range"
   ]
  },
  {
   "cell_type": "code",
   "execution_count": 6,
   "metadata": {},
   "outputs": [
    {
     "name": "stdout",
     "output_type": "stream",
     "text": [
      "Min value of images is 0.0\n",
      "Max value of images is 1.0\n"
     ]
    }
   ],
   "source": [
    "image, _ = dataset_training[0]\n",
    "print(f'Min value of images is {image.min()}')\n",
    "print(f'Max value of images is {image.max()}')"
   ]
  },
  {
   "attachments": {},
   "cell_type": "markdown",
   "metadata": {},
   "source": [
    "### 1.1.3. Sample Plots"
   ]
  },
  {
   "cell_type": "code",
   "execution_count": 7,
   "metadata": {},
   "outputs": [
    {
     "data": {
      "image/png": "[encoded data removed]",
      "text/plain": [
       "<Figure size 1000x400 with 10 Axes>"
      ]
     },
     "metadata": {},
     "output_type": "display_data"
    }
   ],
   "source": [
    "# Sample 10 images with labels 0 to 9.\n",
    "samples = utils.sample_MNIST_with_all_labels(dataset_training)\n",
    "\n",
    "# Plot the images with labels.\n",
    "rows, cols = 2, 5\n",
    "plt.figure(figsize=(10, 4))\n",
    "for i in range(rows * cols):\n",
    "    plt.subplot(rows, cols, i+1)\n",
    "    plt.axis('off')\n",
    "    plt.imshow(samples[i].squeeze(), cmap=plt.cm.gray)\n",
    "plt.tight_layout()"
   ]
  },
  {
   "attachments": {},
   "cell_type": "markdown",
   "metadata": {},
   "source": [
    "# 2. Model"
   ]
  },
  {
   "cell_type": "code",
   "execution_count": 8,
   "metadata": {},
   "outputs": [
    {
     "name": "stdout",
     "output_type": "stream",
     "text": [
      "Sequential(\n",
      "  (0): Flatten(start_dim=1, end_dim=-1)\n",
      "  (1): Linear(in_features=784, out_features=10, bias=True)\n",
      "  (2): Softmax(dim=1)\n",
      ")\n"
     ]
    }
   ],
   "source": [
    "model = torch.nn.Sequential(\n",
    "    torch.nn.Flatten(),\n",
    "    torch.nn.Linear(28*28, 10),\n",
    "    torch.nn.Softmax(dim=1)\n",
    ")\n",
    "print(model)"
   ]
  },
  {
   "attachments": {},
   "cell_type": "markdown",
   "metadata": {},
   "source": [
    "# 3. Train"
   ]
  },
  {
   "cell_type": "code",
   "execution_count": 9,
   "metadata": {},
   "outputs": [
    {
     "name": "stdout",
     "output_type": "stream",
     "text": [
      "loss: 2.300066 [10000 / 60000]\n",
      "loss: 2.274649 [20000 / 60000]\n",
      "loss: 2.261004 [30000 / 60000]\n",
      "loss: 2.285437 [40000 / 60000]\n",
      "loss: 2.176009 [50000 / 60000]\n",
      "loss: 2.101541 [60000 / 60000]\n",
      "loss: 2.186590 [10000 / 60000]\n",
      "loss: 2.067020 [20000 / 60000]\n",
      "loss: 2.060052 [30000 / 60000]\n",
      "loss: 2.041759 [40000 / 60000]\n",
      "loss: 2.020663 [50000 / 60000]\n",
      "loss: 2.104858 [60000 / 60000]\n",
      "loss: 1.946273 [10000 / 60000]\n",
      "loss: 1.950811 [20000 / 60000]\n",
      "loss: 1.941967 [30000 / 60000]\n",
      "loss: 2.070240 [40000 / 60000]\n",
      "loss: 2.026752 [50000 / 60000]\n",
      "loss: 2.104283 [60000 / 60000]\n",
      "loss: 1.872719 [10000 / 60000]\n",
      "loss: 1.935121 [20000 / 60000]\n",
      "loss: 1.888858 [30000 / 60000]\n",
      "loss: 1.850268 [40000 / 60000]\n",
      "loss: 1.726324 [50000 / 60000]\n",
      "loss: 1.943374 [60000 / 60000]\n",
      "loss: 1.703623 [10000 / 60000]\n",
      "loss: 1.569734 [20000 / 60000]\n",
      "loss: 1.663126 [30000 / 60000]\n",
      "loss: 1.895410 [40000 / 60000]\n",
      "loss: 1.799819 [50000 / 60000]\n",
      "loss: 1.791531 [60000 / 60000]\n",
      "loss: 1.821532 [10000 / 60000]\n",
      "loss: 1.865169 [20000 / 60000]\n",
      "loss: 1.715515 [30000 / 60000]\n",
      "loss: 1.759345 [40000 / 60000]\n",
      "loss: 1.816911 [50000 / 60000]\n",
      "loss: 1.789397 [60000 / 60000]\n",
      "loss: 1.754889 [10000 / 60000]\n",
      "loss: 1.651638 [20000 / 60000]\n",
      "loss: 1.764139 [30000 / 60000]\n",
      "loss: 1.836779 [40000 / 60000]\n",
      "loss: 1.801692 [50000 / 60000]\n",
      "loss: 1.764093 [60000 / 60000]\n",
      "loss: 1.804144 [10000 / 60000]\n",
      "loss: 1.806505 [20000 / 60000]\n",
      "loss: 1.832552 [30000 / 60000]\n",
      "loss: 1.816408 [40000 / 60000]\n",
      "loss: 1.709033 [50000 / 60000]\n",
      "loss: 1.675725 [60000 / 60000]\n",
      "loss: 1.773943 [10000 / 60000]\n",
      "loss: 1.682229 [20000 / 60000]\n",
      "loss: 1.683430 [30000 / 60000]\n",
      "loss: 1.646209 [40000 / 60000]\n",
      "loss: 1.835683 [50000 / 60000]\n",
      "loss: 1.738794 [60000 / 60000]\n",
      "loss: 1.683702 [10000 / 60000]\n",
      "loss: 1.663579 [20000 / 60000]\n",
      "loss: 1.894923 [30000 / 60000]\n",
      "loss: 1.603636 [40000 / 60000]\n",
      "loss: 1.747658 [50000 / 60000]\n",
      "loss: 1.686562 [60000 / 60000]\n"
     ]
    }
   ],
   "source": [
    "loss_fn = torch.nn.CrossEntropyLoss()\n",
    "optimizer = torch.optim.SGD(model.parameters(), LEARNING_RATE)\n",
    "\n",
    "# Run epochs.\n",
    "for epoch in range(EPOCHS):\n",
    "\n",
    "    # Run one epoch.\n",
    "    for batch, [images, labels] in enumerate(dataloader_training):\n",
    "        # Convert the labels to one-hot representation.\n",
    "        labels = torch.nn.functional.one_hot(labels, num_classes=10).to(dtype=torch.float32)\n",
    "\n",
    "        # make the prediction.\n",
    "        pred = model(images)\n",
    "\n",
    "        # Calculate the loss.\n",
    "        loss = loss_fn(pred, labels)\n",
    "\n",
    "        # Back propagation.\n",
    "        optimizer.zero_grad()\n",
    "        loss.backward()\n",
    "        optimizer.step()\n",
    "\n",
    "        if (batch + 1) % 1000 == 0:\n",
    "            loss, size_current, size_total = loss.item(), (batch+1)*BATCH_SIZE, len(dataloader_training.dataset)\n",
    "            print(f'loss: {loss:>7f} [{size_current:>5d} / {size_total:>5d}]')"
   ]
  }
 ],
 "metadata": {
  "kernelspec": {
   "display_name": "base",
   "language": "python",
   "name": "python3"
  },
  "language_info": {
   "codemirror_mode": {
    "name": "ipython",
    "version": 3
   },
   "file_extension": ".py",
   "mimetype": "text/x-python",
   "name": "python",
   "nbconvert_exporter": "python",
   "pygments_lexer": "ipython3",
   "version": "3.9.13"
  },
  "orig_nbformat": 4
 },
 "nbformat": 4,
 "nbformat_minor": 2
}
