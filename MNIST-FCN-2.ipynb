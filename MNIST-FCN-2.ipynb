{
 "cells": [
  {
   "cell_type": "code",
   "execution_count": 19,
   "metadata": {},
   "outputs": [],
   "source": [
    "# Python imports\n",
    "import os\n",
    "\n",
    "# PyTorch imports\n",
    "import torch\n",
    "import torchvision\n",
    "\n",
    "# Third-party imports\n",
    "import matplotlib.pyplot as plt\n",
    "from tabulate import tabulate\n",
    "\n",
    "# Own imports\n",
    "import utils"
   ]
  },
  {
   "attachments": {},
   "cell_type": "markdown",
   "metadata": {},
   "source": [
    "# 0. Constants"
   ]
  },
  {
   "cell_type": "code",
   "execution_count": 20,
   "metadata": {},
   "outputs": [],
   "source": [
    "# Hyper-parameters.\n",
    "LEARNING_RATE = 0.01\n",
    "EPOCHS = 30\n",
    "BATCH_SIZE = 100\n",
    "LAYER_SIZES = [120, 84]\n",
    "\n",
    "# Others.\n",
    "WIDTH, HEIGHT = 28, 28\n",
    "CATEGORIES = 10\n",
    "SAVED_FILENAME = 'MNIST-FCN-2'"
   ]
  },
  {
   "attachments": {},
   "cell_type": "markdown",
   "metadata": {},
   "source": [
    "# 1. Dataset"
   ]
  },
  {
   "attachments": {},
   "cell_type": "markdown",
   "metadata": {},
   "source": [
    "I use MNIST as the dataset.\n",
    "\n",
    "* Image width is 28.\n",
    "* Image height is 28.\n",
    "* Image channel is 1.\n",
    "* Value of each pixel is in [0, 1]."
   ]
  },
  {
   "attachments": {},
   "cell_type": "markdown",
   "metadata": {},
   "source": [
    "Load training and test datasets."
   ]
  },
  {
   "cell_type": "code",
   "execution_count": 21,
   "metadata": {},
   "outputs": [],
   "source": [
    "# image, label = dataset_training[i]\n",
    "# image, label = dataset_training[i]\n",
    "# image is a tensor of shape (1, WIDTH, HEIGHT).\n",
    "# label is a Python int number.\n",
    "dataset_training = utils.MNIST('./data', train=True, transform=torchvision.transforms.ToTensor())\n",
    "dataset_test = utils.MNIST('./data', train=False, transform=torchvision.transforms.ToTensor())"
   ]
  },
  {
   "attachments": {},
   "cell_type": "markdown",
   "metadata": {},
   "source": [
    "Create data loaders for training and test."
   ]
  },
  {
   "cell_type": "code",
   "execution_count": 22,
   "metadata": {},
   "outputs": [],
   "source": [
    "# samples = next(iter(dataloader_training))\n",
    "# samples = next(iter(dataloader_test))\n",
    "# samples is a Python list of len 2.\n",
    "# samples[0] is a tensor of shape (BATCH_SIZE, 1, WIDTH, HEIGHT)\n",
    "# samples[1] is a tensor of shape (BATCH_SIZE,)\n",
    "dataloader_training = torch.utils.data.DataLoader(dataset_training, batch_size=BATCH_SIZE, shuffle=True)\n",
    "dataloader_test = torch.utils.data.DataLoader(dataset_test, batch_size=BATCH_SIZE, shuffle=True)"
   ]
  },
  {
   "attachments": {},
   "cell_type": "markdown",
   "metadata": {},
   "source": [
    "Inspect number of samples in both datasets."
   ]
  },
  {
   "cell_type": "code",
   "execution_count": 23,
   "metadata": {},
   "outputs": [
    {
     "name": "stdout",
     "output_type": "stream",
     "text": [
      "| Dataset   |   Number of Samples |\n",
      "|-----------|---------------------|\n",
      "| Training  |               60000 |\n",
      "| Test      |               10000 |\n"
     ]
    }
   ],
   "source": [
    "headers = ['Dataset', 'Number of Samples']\n",
    "rows = [\n",
    "    ['Training', len(dataset_training)],\n",
    "    ['Test', len(dataset_test)],\n",
    "]\n",
    "\n",
    "# Print the table.\n",
    "print(tabulate(rows, headers=headers, tablefmt='github'))"
   ]
  },
  {
   "attachments": {},
   "cell_type": "markdown",
   "metadata": {},
   "source": [
    "Sample images of all labels."
   ]
  },
  {
   "cell_type": "code",
   "execution_count": 24,
   "metadata": {},
   "outputs": [
    {
     "data": {
      "image/png": "[encoded data removed]",
      "text/plain": [
       "<Figure size 1000x400 with 10 Axes>"
      ]
     },
     "metadata": {},
     "output_type": "display_data"
    }
   ],
   "source": [
    "# Sample 10 images with labels 0 to 9.\n",
    "samples = utils.sample_MNIST_with_all_labels(dataset_training)\n",
    "\n",
    "# Plot the images.\n",
    "rows, cols = 2, 5\n",
    "fig, axs = plt.subplots(rows, cols, figsize=(10, 4))\n",
    "for row in range(rows):\n",
    "    for col in range(cols):\n",
    "        axs[row, col].imshow(samples[row*cols+col].squeeze(), cmap=plt.cm.gray)\n",
    "        axs[row, col].axis('off')\n",
    "        axs[row, col].set_title(row*cols+col)\n",
    "plt.tight_layout()"
   ]
  },
  {
   "attachments": {},
   "cell_type": "markdown",
   "metadata": {},
   "source": [
    "# 2. Model"
   ]
  },
  {
   "cell_type": "code",
   "execution_count": 25,
   "metadata": {},
   "outputs": [
    {
     "name": "stdout",
     "output_type": "stream",
     "text": [
      "The model structure is\n",
      "Sequential(\n",
      "  (0): Flatten(start_dim=1, end_dim=-1)\n",
      "  (1): Linear(in_features=784, out_features=120, bias=True)\n",
      "  (2): Linear(in_features=120, out_features=84, bias=True)\n",
      "  (3): Linear(in_features=84, out_features=10, bias=True)\n",
      "  (4): Softmax(dim=1)\n",
      ")\n"
     ]
    }
   ],
   "source": [
    "model = torch.nn.Sequential(\n",
    "    torch.nn.Flatten(),\n",
    "    torch.nn.Linear(WIDTH*HEIGHT, LAYER_SIZES[0]),\n",
    "    torch.nn.Linear(LAYER_SIZES[0], LAYER_SIZES[1]),\n",
    "    torch.nn.Linear(LAYER_SIZES[1], CATEGORIES),\n",
    "    torch.nn.Softmax(dim=1)\n",
    ")\n",
    "\n",
    "print('The model structure is')\n",
    "print(model)"
   ]
  },
  {
   "attachments": {},
   "cell_type": "markdown",
   "metadata": {},
   "source": [
    "Inspect the number of parameters."
   ]
  },
  {
   "cell_type": "code",
   "execution_count": 26,
   "metadata": {},
   "outputs": [
    {
     "name": "stdout",
     "output_type": "stream",
     "text": [
      "Total number of parameters: 105214\n"
     ]
    }
   ],
   "source": [
    "num_parameters_total = 0\n",
    "for params in model.parameters():\n",
    "    num_parameters = 1\n",
    "    size = params.size()\n",
    "    for dim_size in size:\n",
    "        num_parameters *= dim_size\n",
    "    num_parameters_total += num_parameters\n",
    "\n",
    "print(f'Total number of parameters: {num_parameters_total}')"
   ]
  },
  {
   "attachments": {},
   "cell_type": "markdown",
   "metadata": {},
   "source": [
    "Use the model to predict before training."
   ]
  },
  {
   "cell_type": "code",
   "execution_count": 27,
   "metadata": {},
   "outputs": [
    {
     "data": {
      "image/png": "[encoded data removed]",
      "text/plain": [
       "<Figure size 1000x400 with 10 Axes>"
      ]
     },
     "metadata": {},
     "output_type": "display_data"
    }
   ],
   "source": [
    "# Sample 10 images with labels 0 to 9 from the test dataset.\n",
    "samples = utils.sample_MNIST_with_all_labels(dataset_test)\n",
    "\n",
    "preds = {}\n",
    "for label, image in samples.items():\n",
    "    pred = model(image)\n",
    "    preds[label] = pred.argmax(dim=1)[0].item()\n",
    "\n",
    "# Plot the images with labels.\n",
    "rows, cols = 2, 5\n",
    "fig, axs = plt.subplots(rows, cols, figsize=(10, 4))\n",
    "for row in range(rows):\n",
    "    for col in range(cols):\n",
    "        axs[row, col].imshow(samples[row*cols+col].squeeze(), cmap=plt.cm.gray)\n",
    "        axs[row, col].axis('off')\n",
    "        axs[row, col].set_title(preds[row*cols+col])\n",
    "plt.tight_layout()"
   ]
  },
  {
   "attachments": {},
   "cell_type": "markdown",
   "metadata": {},
   "source": [
    "# 3. Training"
   ]
  },
  {
   "attachments": {},
   "cell_type": "markdown",
   "metadata": {},
   "source": [
    "Define a function to load from saved data."
   ]
  },
  {
   "cell_type": "code",
   "execution_count": 28,
   "metadata": {},
   "outputs": [],
   "source": [
    "def load(model):\n",
    "    \n",
    "    # Retrieve saved data.\n",
    "    data = torch.load(f'saved/{SAVED_FILENAME}.pt')\n",
    "\n",
    "    # Resume model from saved data.\n",
    "    state_dict = data['state_dict']\n",
    "    model.load_state_dict(state_dict)\n",
    "\n",
    "    # Return losses and accuracies for training and testing.\n",
    "    return data['losses'], data['accuracies'], data['losses_test'], data['accuracies_test'], data['training_time']"
   ]
  },
  {
   "attachments": {},
   "cell_type": "markdown",
   "metadata": {},
   "source": [
    "Define a function to save data."
   ]
  },
  {
   "cell_type": "code",
   "execution_count": 29,
   "metadata": {},
   "outputs": [],
   "source": [
    "def save(model, losses, accuracies, losses_test, accuracies_test, training_time):\n",
    "    \n",
    "    # Create folder 'saved' if it does not exist.\n",
    "    if not os.path.exists('saved'):\n",
    "        os.makedirs('saved')\n",
    "\n",
    "    # Construct the struct of data to save.\n",
    "    data = {\n",
    "        'state_dict': model.state_dict(),\n",
    "        'losses': losses,\n",
    "        'accuracies': accuracies,\n",
    "        'losses_test': losses_test,\n",
    "        'accuracies_test': accuracies_test,\n",
    "        'training_time': training_time,\n",
    "    }\n",
    "\n",
    "    # Save data to the file.\n",
    "    torch.save(data, f'saved/{SAVED_FILENAME}.pt')"
   ]
  },
  {
   "attachments": {},
   "cell_type": "markdown",
   "metadata": {},
   "source": [
    "Define a function to calculate loss and statistics on a dataset."
   ]
  },
  {
   "cell_type": "code",
   "execution_count": 30,
   "metadata": {},
   "outputs": [],
   "source": [
    "def calculateStatistics(dataloader, model, loss_fn):\n",
    "    \n",
    "    with torch.no_grad():\n",
    "        num_batches = len(dataloader)\n",
    "        num_samples = len(dataloader.dataset)\n",
    "        loss, correct = 0, 0\n",
    "\n",
    "        for images, labels in dataloader:\n",
    "            # Make predictions.\n",
    "            preds = model(images)\n",
    "\n",
    "            # Calculate the loss.\n",
    "            loss += loss_fn(preds, labels).item()\n",
    "\n",
    "            # Calculate the number of correctnesses.\n",
    "            correct += (preds.argmax(dim=1) == labels).type(dtype=torch.float32).sum().item()\n",
    "\n",
    "        # Calculate the mean loss and correct.\n",
    "        loss /= num_batches\n",
    "        accuracy = correct / num_samples\n",
    "\n",
    "    return loss, accuracy"
   ]
  },
  {
   "attachments": {},
   "cell_type": "markdown",
   "metadata": {},
   "source": [
    "Define a function to train the model for one epoch."
   ]
  },
  {
   "cell_type": "code",
   "execution_count": 31,
   "metadata": {},
   "outputs": [],
   "source": [
    "def trainOneEpoch(model, dataloader_training, dataloader_test, loss_fn, optimizer, learning_rate):\n",
    "\n",
    "    # Constants.\n",
    "    BATCHES = len(dataloader_training)\n",
    "    SAMPLES = len(dataloader_training.dataset)\n",
    "\n",
    "    # Variables.\n",
    "    loss_total, correct_total = 0, 0\n",
    "\n",
    "    for batch, [images, labels] in enumerate(dataloader_training):\n",
    "        # Make predictions.\n",
    "        pred = model(images)\n",
    "\n",
    "        # Calculate the loss.\n",
    "        loss = loss_fn(pred, labels)\n",
    "        loss_total += loss.item()\n",
    "\n",
    "        # Calculate the number of correctness.\n",
    "        correct_total += (pred.argmax(dim=1) == labels).type(dtype=torch.float32).sum().item()\n",
    "\n",
    "        # Back propagation.\n",
    "        optimizer.zero_grad()\n",
    "        loss.backward()\n",
    "        optimizer.step()\n",
    "        \n",
    "    # Calculate the mean loss across all batches.\n",
    "    loss = loss_total / BATCHES\n",
    "\n",
    "    # Calculate the accuracy across all batches.\n",
    "    accuracy = correct_total / SAMPLES\n",
    "\n",
    "    # Calculate loss and correct for test.\n",
    "    loss_test, accuracy_test = calculateStatistics(dataloader_test, model, loss_fn)\n",
    "\n",
    "    return loss, accuracy, loss_test, accuracy_test"
   ]
  },
  {
   "attachments": {},
   "cell_type": "markdown",
   "metadata": {},
   "source": [
    "Define a function to train the model for all epochs."
   ]
  },
  {
   "cell_type": "code",
   "execution_count": 32,
   "metadata": {},
   "outputs": [],
   "source": [
    "def train(model, dataloader_training, dataloader_test, learning_rate, epochs):\n",
    "    \n",
    "    # Define the loss function and optimizer.\n",
    "    loss_fn = torch.nn.CrossEntropyLoss()\n",
    "    optimizer = torch.optim.SGD(model.parameters(), LEARNING_RATE)\n",
    "\n",
    "    # Define losses and corrects for training and test.\n",
    "    losses, accuracies = [], []\n",
    "    losses_test, accuracies_test = [], []\n",
    "\n",
    "    # Define a timer and start timing.\n",
    "    t = utils.Timer()\n",
    "    t.start()\n",
    "\n",
    "    # Calculate losses and corrects before training.\n",
    "    loss, accuracy = calculateStatistics(dataloader_training, model, loss_fn)\n",
    "    losses.append(loss)\n",
    "    accuracies.append(accuracy)\n",
    "    loss_test, accuracy_test = calculateStatistics(dataloader_test, model, loss_fn)\n",
    "    losses_test.append(loss_test)\n",
    "    accuracies_test.append(accuracy_test)\n",
    "\n",
    "    # Print statistics.\n",
    "    print(f'Epoch #0: training loss ({loss:.3f}) | training accu ({accuracy:.3f}) | test loss ({loss_test:.3f}) | test accu ({accuracy_test:.3f})')\n",
    "\n",
    "    # Run epochs.\n",
    "    for epoch in range(epochs):\n",
    "\n",
    "        # Train one epoch.\n",
    "        loss, accuracy, loss_test, accuracy_test = trainOneEpoch(model, dataloader_training, dataloader_test, loss_fn, optimizer, learning_rate)\n",
    "\n",
    "        # Record the loss and accuracy.\n",
    "        losses.append(loss)\n",
    "        accuracies.append(accuracy)\n",
    "        losses_test.append(loss_test)\n",
    "        accuracies_test.append(accuracy_test)\n",
    "\n",
    "        # Print statistics.\n",
    "        print(f'Epoch #{epoch+1}: training loss ({loss:.3f}) | training accu ({accuracy:.3f}) | test loss ({loss_test:.3f}) | test accu ({accuracy_test:.3f})')\n",
    "\n",
    "    # Stop timing.\n",
    "    t.stop()\n",
    "\n",
    "    # Return losses, accuracies and training time.\n",
    "    return losses, accuracies, losses_test, accuracies_test, t.getDuration()\n"
   ]
  },
  {
   "attachments": {},
   "cell_type": "markdown",
   "metadata": {},
   "source": [
    "Actually train the model."
   ]
  },
  {
   "cell_type": "code",
   "execution_count": 33,
   "metadata": {},
   "outputs": [],
   "source": [
    "if os.path.exists(f'saved/{SAVED_FILENAME}.pt'):\n",
    "    losses, accuracies, losses_test, accuracies_test, training_time = load(model)\n",
    "else:\n",
    "    losses, accuracies, losses_test, accuracies_test, training_time = train(model, dataloader_training, dataloader_test, LEARNING_RATE, EPOCHS)\n",
    "    save(model, losses, accuracies, losses_test, accuracies_test, training_time)"
   ]
  },
  {
   "attachments": {},
   "cell_type": "markdown",
   "metadata": {},
   "source": [
    "Show the training time."
   ]
  },
  {
   "cell_type": "code",
   "execution_count": 34,
   "metadata": {},
   "outputs": [
    {
     "name": "stdout",
     "output_type": "stream",
     "text": [
      "Training time is 26.96 seconds.\n"
     ]
    }
   ],
   "source": [
    "print(f'Training time is {training_time:.2f} seconds.')"
   ]
  },
  {
   "attachments": {},
   "cell_type": "markdown",
   "metadata": {},
   "source": [
    "Visualize the training process."
   ]
  },
  {
   "cell_type": "code",
   "execution_count": 35,
   "metadata": {},
   "outputs": [
    {
     "data": {
      "image/png": "[encoded data removed]",
      "text/plain": [
       "<Figure size 640x480 with 4 Axes>"
      ]
     },
     "metadata": {},
     "output_type": "display_data"
    }
   ],
   "source": [
    "fig, ((ax11, ax12), (ax21, ax22)) = plt.subplots(2,2)\n",
    "\n",
    "ax11.plot(losses)\n",
    "ax11.set_title(f'losses (training) - {losses[EPOCHS]:.3f}')\n",
    "ax12.plot(accuracies)\n",
    "ax12.set_title(f'accuracy (training) - {accuracies[EPOCHS]:.3f}')\n",
    "ax21.plot(losses_test)\n",
    "ax21.set_title(f'losses (test) - {losses_test[EPOCHS]:.3f}')\n",
    "ax22.plot(accuracies_test)\n",
    "ax22.set_title(f'accuracy (test) - {accuracies_test[EPOCHS]:.3f}')\n",
    "\n",
    "plt.tight_layout()\n",
    "plt.show()"
   ]
  },
  {
   "attachments": {},
   "cell_type": "markdown",
   "metadata": {},
   "source": [
    "# 4. Evaluation"
   ]
  },
  {
   "attachments": {},
   "cell_type": "markdown",
   "metadata": {},
   "source": [
    "Use the trained model to make predictions."
   ]
  },
  {
   "cell_type": "code",
   "execution_count": 36,
   "metadata": {},
   "outputs": [
    {
     "data": {
      "image/png": "[encoded data removed]",
      "text/plain": [
       "<Figure size 1000x400 with 10 Axes>"
      ]
     },
     "metadata": {},
     "output_type": "display_data"
    }
   ],
   "source": [
    "# Sample 10 images with labels 0 to 9 from the test dataset.\n",
    "samples = utils.sample_MNIST_with_all_labels(dataset_test)\n",
    "\n",
    "# Make predictions using the trained model.\n",
    "preds = {}\n",
    "for label, image in samples.items():\n",
    "    pred = model(image)\n",
    "    preds[label] = pred.argmax(dim=1)[0].item()\n",
    "\n",
    "# Plot the images with predictions.\n",
    "rows, cols = 2, 5\n",
    "fig, axs = plt.subplots(rows, cols, figsize=(10, 4))\n",
    "for row in range(rows):\n",
    "    for col in range(cols):\n",
    "        axs[row, col].imshow(samples[row*cols+col].squeeze(), cmap=plt.cm.gray)\n",
    "        axs[row, col].axis('off')\n",
    "        axs[row, col].set_title(preds[row*cols+col])\n",
    "plt.tight_layout()"
   ]
  }
 ],
 "metadata": {
  "kernelspec": {
   "display_name": "base",
   "language": "python",
   "name": "python3"
  },
  "language_info": {
   "codemirror_mode": {
    "name": "ipython",
    "version": 3
   },
   "file_extension": ".py",
   "mimetype": "text/x-python",
   "name": "python",
   "nbconvert_exporter": "python",
   "pygments_lexer": "ipython3",
   "version": "3.9.13"
  },
  "orig_nbformat": 4
 },
 "nbformat": 4,
 "nbformat_minor": 2
}
