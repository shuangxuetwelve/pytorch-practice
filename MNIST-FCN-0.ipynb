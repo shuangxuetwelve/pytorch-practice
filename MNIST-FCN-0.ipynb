{
 "cells": [
  {
   "cell_type": "code",
   "execution_count": 1,
   "metadata": {},
   "outputs": [],
   "source": [
    "# Python imports\n",
    "import os\n",
    "\n",
    "# PyTorch imports\n",
    "import torch\n",
    "import torchvision\n",
    "\n",
    "# Third-party imports\n",
    "import matplotlib.pyplot as plt\n",
    "from tabulate import tabulate\n",
    "\n",
    "# Own imports\n",
    "import utils"
   ]
  },
  {
   "attachments": {},
   "cell_type": "markdown",
   "metadata": {},
   "source": [
    "# 0. Constants"
   ]
  },
  {
   "cell_type": "code",
   "execution_count": 2,
   "metadata": {},
   "outputs": [],
   "source": [
    "# Hyper-parameters.\n",
    "LEARNING_RATE = 0.01\n",
    "EPOCHS = 30\n",
    "BATCH_SIZE = 100\n",
    "\n",
    "# Others.\n",
    "WIDTH, HEIGHT = 28, 28\n",
    "CATEGORIES = 10\n",
    "SAVED_FILENAME = 'MNIST-FCN-0'"
   ]
  },
  {
   "attachments": {},
   "cell_type": "markdown",
   "metadata": {},
   "source": [
    "# 1. Dataset"
   ]
  },
  {
   "attachments": {},
   "cell_type": "markdown",
   "metadata": {},
   "source": [
    "I use MNIST as the dataset.\n",
    "\n",
    "* Image width is 28.\n",
    "* Image height is 28.\n",
    "* Image channel is 1.\n",
    "* Value of each pixel is in [0, 1]."
   ]
  },
  {
   "attachments": {},
   "cell_type": "markdown",
   "metadata": {},
   "source": [
    "Load training and test datasets."
   ]
  },
  {
   "cell_type": "code",
   "execution_count": 3,
   "metadata": {},
   "outputs": [],
   "source": [
    "# image, label = dataset_training[i]\n",
    "# image, label = dataset_training[i]\n",
    "# image is a tensor of shape (1, WIDTH, HEIGHT).\n",
    "# label is a Python int number.\n",
    "dataset_training = utils.MNIST('./data', train=True, transform=torchvision.transforms.ToTensor())\n",
    "dataset_test = utils.MNIST('./data', train=False, transform=torchvision.transforms.ToTensor())"
   ]
  },
  {
   "attachments": {},
   "cell_type": "markdown",
   "metadata": {},
   "source": [
    "Create data loaders for training and test."
   ]
  },
  {
   "cell_type": "code",
   "execution_count": 4,
   "metadata": {},
   "outputs": [],
   "source": [
    "# samples = next(iter(dataloader_training))\n",
    "# samples = next(iter(dataloader_test))\n",
    "# samples is a Python list of len 2.\n",
    "# samples[0] is a tensor of shape (BATCH_SIZE, 1, WIDTH, HEIGHT)\n",
    "# samples[1] is a tensor of shape (BATCH_SIZE,)\n",
    "dataloader_training = torch.utils.data.DataLoader(dataset_training, batch_size=BATCH_SIZE, shuffle=True)\n",
    "dataloader_test = torch.utils.data.DataLoader(dataset_test, batch_size=BATCH_SIZE, shuffle=True)"
   ]
  },
  {
   "attachments": {},
   "cell_type": "markdown",
   "metadata": {},
   "source": [
    "Inspect number of samples in both datasets."
   ]
  },
  {
   "cell_type": "code",
   "execution_count": 5,
   "metadata": {},
   "outputs": [
    {
     "name": "stdout",
     "output_type": "stream",
     "text": [
      "| Dataset   |   Number of Samples |\n",
      "|-----------|---------------------|\n",
      "| Training  |               60000 |\n",
      "| Test      |               10000 |\n"
     ]
    }
   ],
   "source": [
    "headers = ['Dataset', 'Number of Samples']\n",
    "rows = [\n",
    "    ['Training', len(dataset_training)],\n",
    "    ['Test', len(dataset_test)],\n",
    "]\n",
    "\n",
    "# Print the table.\n",
    "print(tabulate(rows, headers=headers, tablefmt='github'))"
   ]
  },
  {
   "attachments": {},
   "cell_type": "markdown",
   "metadata": {},
   "source": [
    "Sample images of all labels."
   ]
  },
  {
   "cell_type": "code",
   "execution_count": 6,
   "metadata": {},
   "outputs": [
    {
     "data": {
      "image/png": "[encoded data removed]",
      "text/plain": [
       "<Figure size 1000x400 with 10 Axes>"
      ]
     },
     "metadata": {},
     "output_type": "display_data"
    }
   ],
   "source": [
    "# Sample 10 images with labels 0 to 9.\n",
    "samples = utils.sample_MNIST_with_all_labels(dataset_training)\n",
    "\n",
    "# Plot the images.\n",
    "rows, cols = 2, 5\n",
    "fig, axs = plt.subplots(rows, cols, figsize=(10, 4))\n",
    "for row in range(rows):\n",
    "    for col in range(cols):\n",
    "        axs[row, col].imshow(samples[row*cols+col].squeeze(), cmap=plt.cm.gray)\n",
    "        axs[row, col].axis('off')\n",
    "        axs[row, col].set_title(row*cols+col)\n",
    "plt.tight_layout()"
   ]
  },
  {
   "attachments": {},
   "cell_type": "markdown",
   "metadata": {},
   "source": [
    "# 2. Model"
   ]
  },
  {
   "cell_type": "code",
   "execution_count": 7,
   "metadata": {},
   "outputs": [
    {
     "name": "stdout",
     "output_type": "stream",
     "text": [
      "The model structure is\n",
      "Sequential(\n",
      "  (0): Flatten(start_dim=1, end_dim=-1)\n",
      "  (1): Linear(in_features=784, out_features=10, bias=True)\n",
      "  (2): Softmax(dim=1)\n",
      ")\n"
     ]
    }
   ],
   "source": [
    "model = torch.nn.Sequential(\n",
    "    torch.nn.Flatten(),\n",
    "    torch.nn.Linear(WIDTH*HEIGHT, CATEGORIES),\n",
    "    torch.nn.Softmax(dim=1)\n",
    ")\n",
    "\n",
    "print('The model structure is')\n",
    "print(model)"
   ]
  },
  {
   "attachments": {},
   "cell_type": "markdown",
   "metadata": {},
   "source": [
    "Inspect the number of parameters."
   ]
  },
  {
   "cell_type": "code",
   "execution_count": 8,
   "metadata": {},
   "outputs": [
    {
     "name": "stdout",
     "output_type": "stream",
     "text": [
      "Total number of parameters: 7850\n"
     ]
    }
   ],
   "source": [
    "num_parameters_total = 0\n",
    "for params in model.parameters():\n",
    "    num_parameters = 1\n",
    "    size = params.size()\n",
    "    for dim_size in size:\n",
    "        num_parameters *= dim_size\n",
    "    num_parameters_total += num_parameters\n",
    "\n",
    "print(f'Total number of parameters: {num_parameters_total}')"
   ]
  },
  {
   "attachments": {},
   "cell_type": "markdown",
   "metadata": {},
   "source": [
    "Use the model to predict before training."
   ]
  },
  {
   "cell_type": "code",
   "execution_count": 9,
   "metadata": {},
   "outputs": [
    {
     "data": {
      "image/png": "[encoded data removed]",
      "text/plain": [
       "<Figure size 1000x400 with 10 Axes>"
      ]
     },
     "metadata": {},
     "output_type": "display_data"
    }
   ],
   "source": [
    "# Put model into evaluation mode.\n",
    "model.eval()\n",
    "\n",
    "# Sample 10 images with labels 0 to 9 from the test dataset.\n",
    "samples = utils.sample_MNIST_with_all_labels(dataset_test)\n",
    "\n",
    "preds = {}\n",
    "for label, image in samples.items():\n",
    "    pred = model(image)\n",
    "    preds[label] = pred.argmax(dim=1)[0].item()\n",
    "\n",
    "# Plot the images with labels.\n",
    "rows, cols = 2, 5\n",
    "fig, axs = plt.subplots(rows, cols, figsize=(10, 4))\n",
    "for row in range(rows):\n",
    "    for col in range(cols):\n",
    "        axs[row, col].imshow(samples[row*cols+col].squeeze(), cmap=plt.cm.gray)\n",
    "        axs[row, col].axis('off')\n",
    "        axs[row, col].set_title(preds[row*cols+col])\n",
    "plt.tight_layout()"
   ]
  },
  {
   "attachments": {},
   "cell_type": "markdown",
   "metadata": {},
   "source": [
    "# 3. Training"
   ]
  },
  {
   "attachments": {},
   "cell_type": "markdown",
   "metadata": {},
   "source": [
    "Define a function to load from saved data."
   ]
  },
  {
   "cell_type": "code",
   "execution_count": 10,
   "metadata": {},
   "outputs": [],
   "source": [
    "def load(model):\n",
    "    \n",
    "    # Retrieve saved data.\n",
    "    data = torch.load(f'saved/{SAVED_FILENAME}.pt')\n",
    "\n",
    "    # Resume model from saved data.\n",
    "    state_dict = data['state_dict']\n",
    "    model.load_state_dict(state_dict)\n",
    "\n",
    "    # Return losses and accuracies for training and testing.\n",
    "    return data['losses'], data['accuracies'], data['losses_test'], data['accuracies_test'], data['training_time']"
   ]
  },
  {
   "attachments": {},
   "cell_type": "markdown",
   "metadata": {},
   "source": [
    "Define a function to save data."
   ]
  },
  {
   "cell_type": "code",
   "execution_count": 11,
   "metadata": {},
   "outputs": [],
   "source": [
    "def save(model, losses, accuracies, losses_test, accuracies_test, training_time):\n",
    "    \n",
    "    # Create folder 'saved' if it does not exist.\n",
    "    if not os.path.exists('saved'):\n",
    "        os.makedirs('saved')\n",
    "\n",
    "    # Construct the struct of data to save.\n",
    "    data = {\n",
    "        'state_dict': model.state_dict(),\n",
    "        'losses': losses,\n",
    "        'accuracies': accuracies,\n",
    "        'losses_test': losses_test,\n",
    "        'accuracies_test': accuracies_test,\n",
    "        'training_time': training_time,\n",
    "    }\n",
    "\n",
    "    # Save data to the file.\n",
    "    torch.save(data, f'saved/{SAVED_FILENAME}.pt')"
   ]
  },
  {
   "attachments": {},
   "cell_type": "markdown",
   "metadata": {},
   "source": [
    "Define a function to calculate loss and statistics on a dataset."
   ]
  },
  {
   "cell_type": "code",
   "execution_count": 12,
   "metadata": {},
   "outputs": [],
   "source": [
    "def calculateStatistics(dataloader, model, loss_fn):\n",
    "\n",
    "    # Put model into evaluation mode.\n",
    "    model.eval()\n",
    "    \n",
    "    with torch.no_grad():\n",
    "        num_batches = len(dataloader)\n",
    "        num_samples = len(dataloader.dataset)\n",
    "        loss, correct = 0, 0\n",
    "\n",
    "        for images, labels in dataloader:\n",
    "            # Make predictions.\n",
    "            preds = model(images)\n",
    "\n",
    "            # Calculate the loss.\n",
    "            loss += loss_fn(preds, labels).item()\n",
    "\n",
    "            # Calculate the number of correctnesses.\n",
    "            correct += (preds.argmax(dim=1) == labels).type(dtype=torch.float32).sum().item()\n",
    "\n",
    "        # Calculate the mean loss and correct.\n",
    "        loss /= num_batches\n",
    "        accuracy = correct / num_samples\n",
    "\n",
    "    return loss, accuracy"
   ]
  },
  {
   "attachments": {},
   "cell_type": "markdown",
   "metadata": {},
   "source": [
    "Define a function to train the model for one epoch."
   ]
  },
  {
   "cell_type": "code",
   "execution_count": 13,
   "metadata": {},
   "outputs": [],
   "source": [
    "def trainOneEpoch(model, dataloader_training, dataloader_test, loss_fn, optimizer):\n",
    "\n",
    "    # Put model into training mode.\n",
    "    model.train(mode=True)\n",
    "\n",
    "    # Constants.\n",
    "    BATCHES = len(dataloader_training)\n",
    "    SAMPLES = len(dataloader_training.dataset)\n",
    "\n",
    "    # Variables.\n",
    "    loss_total, correct_total = 0, 0\n",
    "\n",
    "    for batch, [images, labels] in enumerate(dataloader_training):\n",
    "        # Make predictions.\n",
    "        pred = model(images)\n",
    "\n",
    "        # Calculate the loss.\n",
    "        loss = loss_fn(pred, labels)\n",
    "        loss_total += loss.item()\n",
    "\n",
    "        # Calculate the number of correctness.\n",
    "        correct_total += (pred.argmax(dim=1) == labels).type(dtype=torch.float32).sum().item()\n",
    "\n",
    "        # Back propagation.\n",
    "        optimizer.zero_grad()\n",
    "        loss.backward()\n",
    "        optimizer.step()\n",
    "        \n",
    "    # Calculate the mean loss across all batches.\n",
    "    loss = loss_total / BATCHES\n",
    "\n",
    "    # Calculate the accuracy across all batches.\n",
    "    accuracy = correct_total / SAMPLES\n",
    "\n",
    "    # Calculate loss and correct for test.\n",
    "    loss_test, accuracy_test = calculateStatistics(dataloader_test, model, loss_fn)\n",
    "\n",
    "    return loss, accuracy, loss_test, accuracy_test"
   ]
  },
  {
   "attachments": {},
   "cell_type": "markdown",
   "metadata": {},
   "source": [
    "Define a function to train the model for all epochs."
   ]
  },
  {
   "cell_type": "code",
   "execution_count": 14,
   "metadata": {},
   "outputs": [],
   "source": [
    "def train(model, dataloader_training, dataloader_test, learning_rate, epochs):\n",
    "    \n",
    "    # Define the loss function and optimizer.\n",
    "    loss_fn = torch.nn.CrossEntropyLoss()\n",
    "    optimizer = torch.optim.SGD(model.parameters(), LEARNING_RATE)\n",
    "\n",
    "    # Define losses and corrects for training and test.\n",
    "    losses, accuracies = [], []\n",
    "    losses_test, accuracies_test = [], []\n",
    "\n",
    "    # Define a timer and start timing.\n",
    "    t = utils.Timer()\n",
    "    t.start()\n",
    "\n",
    "    # Calculate losses and corrects before training.\n",
    "    loss, accuracy = calculateStatistics(dataloader_training, model, loss_fn)\n",
    "    losses.append(loss)\n",
    "    accuracies.append(accuracy)\n",
    "    loss_test, accuracy_test = calculateStatistics(dataloader_test, model, loss_fn)\n",
    "    losses_test.append(loss_test)\n",
    "    accuracies_test.append(accuracy_test)\n",
    "\n",
    "    # Print statistics.\n",
    "    print(f'Epoch #0: training loss ({loss:.3f}) | training accu ({accuracy:.3f}) | test loss ({loss_test:.3f}) | test accu ({accuracy_test:.3f})')\n",
    "\n",
    "    # Run epochs.\n",
    "    for epoch in range(epochs):\n",
    "\n",
    "        # Train one epoch.\n",
    "        loss, accuracy, loss_test, accuracy_test = trainOneEpoch(model, dataloader_training, dataloader_test, loss_fn, optimizer)\n",
    "\n",
    "        # Record the loss and accuracy.\n",
    "        losses.append(loss)\n",
    "        accuracies.append(accuracy)\n",
    "        losses_test.append(loss_test)\n",
    "        accuracies_test.append(accuracy_test)\n",
    "\n",
    "        # Print statistics.\n",
    "        print(f'Epoch #{epoch+1}: training loss ({loss:.3f}) | training accu ({accuracy:.3f}) | test loss ({loss_test:.3f}) | test accu ({accuracy_test:.3f})')\n",
    "\n",
    "    # Stop timing.\n",
    "    t.stop()\n",
    "\n",
    "    # Return losses, accuracies and training time.\n",
    "    return losses, accuracies, losses_test, accuracies_test, t.getDuration()\n"
   ]
  },
  {
   "attachments": {},
   "cell_type": "markdown",
   "metadata": {},
   "source": [
    "Actually train the model."
   ]
  },
  {
   "cell_type": "code",
   "execution_count": 15,
   "metadata": {},
   "outputs": [
    {
     "name": "stdout",
     "output_type": "stream",
     "text": [
      "Epoch #0: training loss (2.301) | training accu (0.107) | test loss (2.301) | test accu (0.109)\n",
      "Epoch #1: training loss (2.238) | training accu (0.367) | test loss (2.151) | test accu (0.479)\n",
      "Epoch #2: training loss (2.069) | training accu (0.552) | test loss (1.985) | test accu (0.653)\n",
      "Epoch #3: training loss (1.941) | training accu (0.677) | test loss (1.890) | test accu (0.706)\n",
      "Epoch #4: training loss (1.872) | training accu (0.708) | test loss (1.844) | test accu (0.719)\n",
      "Epoch #5: training loss (1.837) | training accu (0.716) | test loss (1.817) | test accu (0.726)\n",
      "Epoch #6: training loss (1.814) | training accu (0.721) | test loss (1.796) | test accu (0.734)\n",
      "Epoch #7: training loss (1.790) | training accu (0.755) | test loss (1.769) | test accu (0.794)\n",
      "Epoch #8: training loss (1.768) | training accu (0.789) | test loss (1.751) | test accu (0.803)\n",
      "Epoch #9: training loss (1.752) | training accu (0.796) | test loss (1.738) | test accu (0.807)\n",
      "Epoch #10: training loss (1.741) | training accu (0.800) | test loss (1.727) | test accu (0.810)\n",
      "Epoch #11: training loss (1.732) | training accu (0.802) | test loss (1.719) | test accu (0.813)\n",
      "Epoch #12: training loss (1.724) | training accu (0.805) | test loss (1.712) | test accu (0.815)\n",
      "Epoch #13: training loss (1.717) | training accu (0.807) | test loss (1.706) | test accu (0.817)\n",
      "Epoch #14: training loss (1.712) | training accu (0.808) | test loss (1.701) | test accu (0.818)\n",
      "Epoch #15: training loss (1.707) | training accu (0.810) | test loss (1.696) | test accu (0.820)\n",
      "Epoch #16: training loss (1.703) | training accu (0.812) | test loss (1.691) | test accu (0.822)\n",
      "Epoch #17: training loss (1.698) | training accu (0.815) | test loss (1.686) | test accu (0.826)\n",
      "Epoch #18: training loss (1.692) | training accu (0.822) | test loss (1.678) | test accu (0.841)\n",
      "Epoch #19: training loss (1.684) | training accu (0.834) | test loss (1.669) | test accu (0.852)\n",
      "Epoch #20: training loss (1.677) | training accu (0.844) | test loss (1.663) | test accu (0.857)\n",
      "Epoch #21: training loss (1.671) | training accu (0.850) | test loss (1.658) | test accu (0.860)\n",
      "Epoch #22: training loss (1.665) | training accu (0.855) | test loss (1.653) | test accu (0.866)\n",
      "Epoch #23: training loss (1.660) | training accu (0.859) | test loss (1.649) | test accu (0.869)\n",
      "Epoch #24: training loss (1.655) | training accu (0.862) | test loss (1.645) | test accu (0.871)\n",
      "Epoch #25: training loss (1.650) | training accu (0.866) | test loss (1.641) | test accu (0.875)\n",
      "Epoch #26: training loss (1.646) | training accu (0.870) | test loss (1.638) | test accu (0.877)\n",
      "Epoch #27: training loss (1.643) | training accu (0.873) | test loss (1.634) | test accu (0.880)\n",
      "Epoch #28: training loss (1.639) | training accu (0.875) | test loss (1.632) | test accu (0.882)\n",
      "Epoch #29: training loss (1.636) | training accu (0.878) | test loss (1.629) | test accu (0.884)\n",
      "Epoch #30: training loss (1.633) | training accu (0.879) | test loss (1.627) | test accu (0.885)\n"
     ]
    }
   ],
   "source": [
    "if os.path.exists(f'saved/{SAVED_FILENAME}.pt'):\n",
    "    losses, accuracies, losses_test, accuracies_test, training_time = load(model)\n",
    "else:\n",
    "    losses, accuracies, losses_test, accuracies_test, training_time = train(model, dataloader_training, dataloader_test, LEARNING_RATE, EPOCHS)\n",
    "    save(model, losses, accuracies, losses_test, accuracies_test, training_time)"
   ]
  },
  {
   "attachments": {},
   "cell_type": "markdown",
   "metadata": {},
   "source": [
    "Show the training time."
   ]
  },
  {
   "cell_type": "code",
   "execution_count": 16,
   "metadata": {},
   "outputs": [
    {
     "name": "stdout",
     "output_type": "stream",
     "text": [
      "Training time is 16.52 seconds.\n"
     ]
    }
   ],
   "source": [
    "print(f'Training time is {training_time:.2f} seconds.')"
   ]
  },
  {
   "attachments": {},
   "cell_type": "markdown",
   "metadata": {},
   "source": [
    "Visualize the training process."
   ]
  },
  {
   "cell_type": "code",
   "execution_count": 17,
   "metadata": {},
   "outputs": [
    {
     "data": {
      "image/png": "[encoded data removed]",
      "text/plain": [
       "<Figure size 640x480 with 4 Axes>"
      ]
     },
     "metadata": {},
     "output_type": "display_data"
    }
   ],
   "source": [
    "fig, ((ax11, ax12), (ax21, ax22)) = plt.subplots(2,2)\n",
    "\n",
    "ax11.plot(losses)\n",
    "ax11.set_title(f'losses (training) - {losses[EPOCHS]:.3f}')\n",
    "ax12.plot(accuracies)\n",
    "ax12.set_title(f'accuracy (training) - {accuracies[EPOCHS]:.3f}')\n",
    "ax21.plot(losses_test)\n",
    "ax21.set_title(f'losses (test) - {losses_test[EPOCHS]:.3f}')\n",
    "ax22.plot(accuracies_test)\n",
    "ax22.set_title(f'accuracy (test) - {accuracies_test[EPOCHS]:.3f}')\n",
    "\n",
    "plt.tight_layout()\n",
    "plt.show()"
   ]
  },
  {
   "attachments": {},
   "cell_type": "markdown",
   "metadata": {},
   "source": [
    "# 4. Evaluation"
   ]
  },
  {
   "attachments": {},
   "cell_type": "markdown",
   "metadata": {},
   "source": [
    "Use the trained model to make predictions."
   ]
  },
  {
   "cell_type": "code",
   "execution_count": 18,
   "metadata": {},
   "outputs": [
    {
     "data": {
      "image/png": "[encoded data removed]",
      "text/plain": [
       "<Figure size 1000x400 with 10 Axes>"
      ]
     },
     "metadata": {},
     "output_type": "display_data"
    }
   ],
   "source": [
    "# Put model into evaluation mode.\n",
    "model.eval()\n",
    "\n",
    "# Sample 10 images with labels 0 to 9 from the test dataset.\n",
    "samples = utils.sample_MNIST_with_all_labels(dataset_test)\n",
    "\n",
    "# Make predictions using the trained model.\n",
    "preds = {}\n",
    "for label, image in samples.items():\n",
    "    pred = model(image)\n",
    "    preds[label] = pred.argmax(dim=1)[0].item()\n",
    "\n",
    "# Plot the images with predictions.\n",
    "rows, cols = 2, 5\n",
    "fig, axs = plt.subplots(rows, cols, figsize=(10, 4))\n",
    "for row in range(rows):\n",
    "    for col in range(cols):\n",
    "        axs[row, col].imshow(samples[row*cols+col].squeeze(), cmap=plt.cm.gray)\n",
    "        axs[row, col].axis('off')\n",
    "        axs[row, col].set_title(preds[row*cols+col])\n",
    "plt.tight_layout()"
   ]
  }
 ],
 "metadata": {
  "kernelspec": {
   "display_name": "base",
   "language": "python",
   "name": "python3"
  },
  "language_info": {
   "codemirror_mode": {
    "name": "ipython",
    "version": 3
   },
   "file_extension": ".py",
   "mimetype": "text/x-python",
   "name": "python",
   "nbconvert_exporter": "python",
   "pygments_lexer": "ipython3",
   "version": "3.9.13"
  },
  "orig_nbformat": 4
 },
 "nbformat": 4,
 "nbformat_minor": 2
}
