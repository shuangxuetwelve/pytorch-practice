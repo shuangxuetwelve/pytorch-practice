{
 "cells": [
  {
   "cell_type": "code",
   "execution_count": 1,
   "metadata": {},
   "outputs": [],
   "source": [
    "# Python imports\n",
    "import os\n",
    "\n",
    "# PyTorch imports\n",
    "import torch\n",
    "import torchvision\n",
    "\n",
    "# Third-party imports\n",
    "import matplotlib.pyplot as plt\n",
    "from tabulate import tabulate\n",
    "\n",
    "# Own imports.\n",
    "import utils"
   ]
  },
  {
   "attachments": {},
   "cell_type": "markdown",
   "metadata": {},
   "source": [
    "# 0. Constants"
   ]
  },
  {
   "cell_type": "code",
   "execution_count": 2,
   "metadata": {},
   "outputs": [],
   "source": [
    "BATCH_SIZE = 10\n",
    "LEARNING_RATE = 0.1\n",
    "EPOCHS = 10\n",
    "WIDTH, HEIGHT = 28, 28\n",
    "SAVED_FILENAME = 'MNIST-MLP-1-2'\n",
    "LAYER_SIZES = [16, 32, 64, 128, 256]"
   ]
  },
  {
   "attachments": {},
   "cell_type": "markdown",
   "metadata": {},
   "source": [
    "# 1. Dataset"
   ]
  },
  {
   "cell_type": "code",
   "execution_count": 3,
   "metadata": {},
   "outputs": [],
   "source": [
    "# Load datasets.\n",
    "dataset_training = torchvision.datasets.MNIST('./data', download=True, train=True, transform=torchvision.transforms.ToTensor())\n",
    "dataset_test = torchvision.datasets.MNIST('./data', download=True, train=False, transform=torchvision.transforms.ToTensor())\n",
    "\n",
    "# Create data loaders.\n",
    "dataloader_training = torch.utils.data.DataLoader(dataset_training, batch_size=BATCH_SIZE, shuffle=True)\n",
    "dataloader_test = torch.utils.data.DataLoader(dataset_test, batch_size=BATCH_SIZE, shuffle=True)"
   ]
  },
  {
   "attachments": {},
   "cell_type": "markdown",
   "metadata": {},
   "source": [
    "# 2. Models"
   ]
  },
  {
   "cell_type": "code",
   "execution_count": 4,
   "metadata": {},
   "outputs": [],
   "source": [
    "# Create a model for each learning rate.\n",
    "models = []\n",
    "for i in range(len(LAYER_SIZES)):\n",
    "    models.append(torch.nn.Sequential(\n",
    "        torch.nn.Flatten(),\n",
    "        torch.nn.Linear(WIDTH*HEIGHT, LAYER_SIZES[i]),\n",
    "        torch.nn.Linear(LAYER_SIZES[i], 10),\n",
    "        torch.nn.Softmax(dim=1)\n",
    "    ))"
   ]
  },
  {
   "attachments": {},
   "cell_type": "markdown",
   "metadata": {},
   "source": [
    "## 2.1. Statistics of the Models"
   ]
  },
  {
   "cell_type": "code",
   "execution_count": 5,
   "metadata": {},
   "outputs": [
    {
     "name": "stdout",
     "output_type": "stream",
     "text": [
      "|   Layer Size |   Number of Parameters |\n",
      "|--------------|------------------------|\n",
      "|           16 |                  12730 |\n",
      "|           32 |                  25450 |\n",
      "|           64 |                  50890 |\n",
      "|          128 |                 101770 |\n",
      "|          256 |                 203530 |\n"
     ]
    }
   ],
   "source": [
    "nums_parameters = []\n",
    "for i in range(len(LAYER_SIZES)):\n",
    "    num_parameters = 0\n",
    "    for params in models[i].parameters():\n",
    "        num_parameters_temp = 1\n",
    "        size = params.size()\n",
    "        for dim_size in size:\n",
    "            num_parameters_temp *= dim_size\n",
    "        num_parameters += num_parameters_temp\n",
    "    nums_parameters.append(num_parameters)\n",
    "\n",
    "headers = ['Layer Size', 'Number of Parameters']\n",
    "\n",
    "rows = []\n",
    "for i in range(len(LAYER_SIZES)):\n",
    "    rows.append([LAYER_SIZES[i], nums_parameters[i]])\n",
    "\n",
    "print(tabulate(rows, headers=headers, tablefmt='github'))"
   ]
  },
  {
   "attachments": {},
   "cell_type": "markdown",
   "metadata": {},
   "source": [
    "# 3. Training"
   ]
  },
  {
   "attachments": {},
   "cell_type": "markdown",
   "metadata": {},
   "source": [
    "## 3.1. Helper Functions"
   ]
  },
  {
   "cell_type": "code",
   "execution_count": 6,
   "metadata": {},
   "outputs": [],
   "source": [
    "def calculateStatistics(dataloader, model, loss_fn):\n",
    "    with torch.no_grad():\n",
    "        num_batches = len(dataloader)\n",
    "        num_samples = len(dataloader.dataset)\n",
    "        loss, correct = 0, 0\n",
    "\n",
    "        for images, labels in dataloader:\n",
    "            # Make predictions.\n",
    "            preds = model(images)\n",
    "\n",
    "            # Calculate the loss.\n",
    "            loss += loss_fn(preds, labels)\n",
    "\n",
    "            # Calculate the number of correctnesses.\n",
    "            correct += (preds.argmax(dim=1) == labels).type(dtype=torch.float32).sum()\n",
    "\n",
    "        # Calculate the mean loss and correct.\n",
    "        loss /= num_batches\n",
    "        correct /= num_samples\n",
    "\n",
    "    return loss, correct"
   ]
  },
  {
   "attachments": {},
   "cell_type": "markdown",
   "metadata": {},
   "source": [
    "## 3.2. Training"
   ]
  },
  {
   "cell_type": "code",
   "execution_count": 7,
   "metadata": {},
   "outputs": [],
   "source": [
    "def load(models):\n",
    "    # Retrieve saved data.\n",
    "    data = torch.load(f'saved/{SAVED_FILENAME}.pt')\n",
    "\n",
    "    # Construct structs losses, corrects, losses_test and corrects_test for returning.\n",
    "    losses, corrects, losses_test, corrects_test, durations = [], [], [], [], []\n",
    "\n",
    "    # Resume model from saved data.\n",
    "    for i in range(len(LAYER_SIZES)):\n",
    "        state_dict = data[i]['state_dict']\n",
    "        models[i].load_state_dict(state_dict)\n",
    "        losses.append(data[i]['losses'])\n",
    "        corrects.append(data[i]['corrects'])\n",
    "        losses_test.append(data[i]['losses_test'])\n",
    "        corrects_test.append(data[i]['corrects_test'])\n",
    "        durations.append(data[i]['duration'])\n",
    "\n",
    "    # Return losses and accuracies for training and testing.\n",
    "    return losses, corrects, losses_test, corrects_test, durations\n",
    "\n",
    "def save(models, losses, corrects, losses_test, corrects_test, durations):\n",
    "    # Create folder 'saved' if it does not exist.\n",
    "    if not os.path.exists('saved'):\n",
    "        os.makedirs('saved')\n",
    "\n",
    "    # Construct the struct of data to save.\n",
    "    data = []\n",
    "    for i in range(len(LAYER_SIZES)):\n",
    "        data.append({\n",
    "            'state_dict': models[i].state_dict(),\n",
    "            'losses': losses[i],\n",
    "            'corrects': corrects[i],\n",
    "            'losses_test': losses_test[i],\n",
    "            'corrects_test': corrects_test[i],\n",
    "            'duration': durations[i],\n",
    "        })\n",
    "\n",
    "    # Save data to the file.\n",
    "    torch.save(data, f'saved/{SAVED_FILENAME}.pt')\n",
    "\n",
    "def train(model, epochs, learning_rate):\n",
    "    # Define a timer and start timing.\n",
    "    t = utils.Timer()\n",
    "    t.start()\n",
    "\n",
    "    loss_fn = torch.nn.CrossEntropyLoss()\n",
    "    optimizer = torch.optim.SGD(model.parameters(), learning_rate)\n",
    "\n",
    "    # Define losses and corrects for training and test.\n",
    "    losses, corrects = [], []\n",
    "    losses_test, corrects_test = [], []\n",
    "\n",
    "    # Calculate losses and corrects before training.\n",
    "    loss, correct = calculateStatistics(dataloader_training, model, loss_fn)\n",
    "    losses.append(loss)\n",
    "    corrects.append(correct)\n",
    "    loss_test, correct_test = calculateStatistics(dataloader_test, model, loss_fn)\n",
    "    losses_test.append(loss)\n",
    "    corrects_test.append(correct_test)\n",
    "\n",
    "    # Run epochs.\n",
    "    for epoch in range(epochs):\n",
    "\n",
    "        # Run one epoch for training.\n",
    "        num_batches = len(dataloader_training)\n",
    "        num_samples = len(dataloader_training.dataset)\n",
    "        loss_epoch, correct_epoch = 0, 0\n",
    "        for batch, [images, labels] in enumerate(dataloader_training):\n",
    "            # Make predictions.\n",
    "            pred = model(images)\n",
    "\n",
    "            # Calculate the loss.\n",
    "            loss = loss_fn(pred, labels)\n",
    "            loss_epoch += loss.item()\n",
    "\n",
    "            # Calculate the number of correctness.\n",
    "            correct_epoch += (pred.argmax(dim=1) == labels).type(dtype=torch.float32).sum().item()\n",
    "\n",
    "            # Calculate gradients.\n",
    "            optimizer.zero_grad()\n",
    "            loss.backward()\n",
    "\n",
    "            # Optimization.\n",
    "            optimizer.step()\n",
    "\n",
    "            if (batch + 1) % 1000 == 0:\n",
    "                loss = loss.item()\n",
    "            \n",
    "        # Calculate the mean loss across all batches.\n",
    "        loss_epoch /= num_batches\n",
    "        losses.append(loss_epoch)\n",
    "\n",
    "        # Calculate the mean number of correctness across all batches.\n",
    "        correct_epoch /= num_samples\n",
    "        corrects.append(correct_epoch)\n",
    "\n",
    "        # Calculate loss and correct for test.\n",
    "        loss_test, correct_test = calculateStatistics(dataloader_test, model, loss_fn)\n",
    "        losses_test.append(loss_test)\n",
    "        corrects_test.append(correct_test)\n",
    "\n",
    "    # Stop timing.\n",
    "    t.stop()\n",
    "\n",
    "    # Return losses and accuracies for training and testing.\n",
    "    return losses, corrects, losses_test, corrects_test, t.getDuration()"
   ]
  },
  {
   "cell_type": "code",
   "execution_count": 8,
   "metadata": {},
   "outputs": [
    {
     "name": "stdout",
     "output_type": "stream",
     "text": [
      "Training duration for each layer:\n",
      "|   Layer Size |   Training Duration |\n",
      "|--------------|---------------------|\n",
      "|           16 |             104.382 |\n",
      "|           32 |             103.366 |\n",
      "|           64 |             106.035 |\n",
      "|          128 |             112.361 |\n",
      "|          256 |             122.138 |\n"
     ]
    }
   ],
   "source": [
    "if os.path.exists(f'saved/{SAVED_FILENAME}.pt'):\n",
    "    losses, corrects, losses_test, corrects_test, durations = load(models)\n",
    "else:\n",
    "    losses, corrects, losses_test, corrects_test, durations = [], [], [], [], []\n",
    "    for i in range(len(LAYER_SIZES)):\n",
    "        print(f'Training the model for layer size {LAYER_SIZES[i]}...')\n",
    "        losses_1_model, corrects_1_model, losses_test_1_model, corrects_test_1_model, duration = train(models[i], EPOCHS, LEARNING_RATE)\n",
    "        losses.append(losses_1_model)\n",
    "        corrects.append(corrects_1_model)\n",
    "        losses_test.append(losses_test_1_model)\n",
    "        corrects_test.append(corrects_test_1_model)\n",
    "        durations.append(duration)\n",
    "    save(models, losses, corrects, losses_test, corrects_test, durations)\n",
    "\n",
    "headers = ['Layer Size', 'Training Duration']\n",
    "\n",
    "rows = []\n",
    "for i in range(len(LAYER_SIZES)):\n",
    "    rows.append([LAYER_SIZES[i], durations[i]])\n",
    "\n",
    "print('Training duration for each layer:')\n",
    "print(tabulate(rows, headers=headers, tablefmt='github'))"
   ]
  },
  {
   "attachments": {},
   "cell_type": "markdown",
   "metadata": {},
   "source": [
    "## 3.3. Visualization of the Training Process"
   ]
  },
  {
   "attachments": {},
   "cell_type": "markdown",
   "metadata": {},
   "source": [
    "### 3.3.1. Visualization of Losses and Accuracies"
   ]
  },
  {
   "cell_type": "code",
   "execution_count": 10,
   "metadata": {},
   "outputs": [
    {
     "name": "stdout",
     "output_type": "stream",
     "text": [
      "Last loss and accuracy for each layer:\n",
      "|   Layer Size |   Last Loss |   Last Accuracy |\n",
      "|--------------|-------------|-----------------|\n",
      "|           16 |       1.533 |           0.929 |\n",
      "|           32 |       1.533 |           0.929 |\n",
      "|           64 |       1.532 |           0.931 |\n",
      "|          128 |       1.532 |           0.930 |\n",
      "|          256 |       1.532 |           0.930 |\n"
     ]
    },
    {
     "data": {
      "image/png": "[encoded data removed]",
      "text/plain": [
       "<Figure size 1200x400 with 10 Axes>"
      ]
     },
     "metadata": {},
     "output_type": "display_data"
    }
   ],
   "source": [
    "fig, axs = plt.subplots(2, len(LAYER_SIZES), figsize=(12, 4))\n",
    "for i in range(len(LAYER_SIZES)):\n",
    "    axs[0, i].plot(losses[i])\n",
    "    axs[0, i].set_title(f'{LAYER_SIZES[i]} - {losses[i][EPOCHS]:.3f}')\n",
    "    axs[1, i].plot(corrects[i])\n",
    "    axs[1, i].set_title(f'{LAYER_SIZES[i]} - {corrects[i][EPOCHS]:.3f}')\n",
    "plt.tight_layout()\n",
    "\n",
    "# Print the last losses and accuracies for each layer size.\n",
    "headers = ['Layer Size', 'Last Loss', 'Last Accuracy']\n",
    "\n",
    "rows = []\n",
    "for i in range(len(LAYER_SIZES)):\n",
    "    rows.append([LAYER_SIZES[i], losses[i][10], corrects[i][10]])\n",
    "\n",
    "print('Last loss and accuracy for each layer:')\n",
    "print(tabulate(rows, headers=headers, tablefmt='github', floatfmt='.3f'))"
   ]
  }
 ],
 "metadata": {
  "kernelspec": {
   "display_name": "base",
   "language": "python",
   "name": "python3"
  },
  "language_info": {
   "codemirror_mode": {
    "name": "ipython",
    "version": 3
   },
   "file_extension": ".py",
   "mimetype": "text/x-python",
   "name": "python",
   "nbconvert_exporter": "python",
   "pygments_lexer": "ipython3",
   "version": "3.9.13"
  },
  "orig_nbformat": 4
 },
 "nbformat": 4,
 "nbformat_minor": 2
}
