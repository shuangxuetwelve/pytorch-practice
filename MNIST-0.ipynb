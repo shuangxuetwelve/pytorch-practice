{
 "cells": [
  {
   "cell_type": "code",
   "execution_count": 50,
   "metadata": {},
   "outputs": [],
   "source": [
    "# Python imports\n",
    "import os\n",
    "\n",
    "# PyTorch imports\n",
    "import torch\n",
    "import torchvision\n",
    "\n",
    "# Third-party imports\n",
    "import matplotlib.pyplot as plt\n",
    "\n",
    "# Own imports\n",
    "import utils"
   ]
  },
  {
   "attachments": {},
   "cell_type": "markdown",
   "metadata": {},
   "source": [
    "# 0. Constants"
   ]
  },
  {
   "cell_type": "code",
   "execution_count": 51,
   "metadata": {},
   "outputs": [],
   "source": [
    "BATCH_SIZE = 10\n",
    "LEARNING_RATE = 0.001\n",
    "EPOCHS = 30\n",
    "WIDTH, HEIGHT = 28, 28\n",
    "SAVED_FILENAME = 'MNIST-0'"
   ]
  },
  {
   "attachments": {},
   "cell_type": "markdown",
   "metadata": {},
   "source": [
    "# 1. Dataset"
   ]
  },
  {
   "cell_type": "code",
   "execution_count": 52,
   "metadata": {},
   "outputs": [],
   "source": [
    "dataset_training = torchvision.datasets.MNIST('./data', download=True, train=True, transform=torchvision.transforms.ToTensor())\n",
    "dataset_test = torchvision.datasets.MNIST('./data', download=True, train=False, transform=torchvision.transforms.ToTensor())"
   ]
  },
  {
   "cell_type": "code",
   "execution_count": 53,
   "metadata": {},
   "outputs": [],
   "source": [
    "dataloader_training = torch.utils.data.DataLoader(dataset_training, batch_size=BATCH_SIZE, shuffle=True)\n",
    "dataloader_test = torch.utils.data.DataLoader(dataset_test, batch_size=BATCH_SIZE, shuffle=True)"
   ]
  },
  {
   "attachments": {},
   "cell_type": "markdown",
   "metadata": {},
   "source": [
    "## 1.1. Dataset Properties"
   ]
  },
  {
   "attachments": {},
   "cell_type": "markdown",
   "metadata": {},
   "source": [
    "### 1.1.1. Length of Datasets"
   ]
  },
  {
   "cell_type": "code",
   "execution_count": 54,
   "metadata": {},
   "outputs": [
    {
     "name": "stdout",
     "output_type": "stream",
     "text": [
      "Length of training dataset: 60000\n",
      "Length of test dataset: 10000\n"
     ]
    }
   ],
   "source": [
    "print(f'Length of training dataset: {len(dataset_training)}')\n",
    "print(f'Length of test dataset: {len(dataset_test)}')"
   ]
  },
  {
   "attachments": {},
   "cell_type": "markdown",
   "metadata": {},
   "source": [
    "### 1.1.2. Value Range"
   ]
  },
  {
   "cell_type": "code",
   "execution_count": 55,
   "metadata": {},
   "outputs": [
    {
     "name": "stdout",
     "output_type": "stream",
     "text": [
      "Min value of images is 0.0\n",
      "Max value of images is 1.0\n"
     ]
    }
   ],
   "source": [
    "image, _ = dataset_training[0]\n",
    "print(f'Min value of images is {image.min()}')\n",
    "print(f'Max value of images is {image.max()}')"
   ]
  },
  {
   "attachments": {},
   "cell_type": "markdown",
   "metadata": {},
   "source": [
    "### 1.1.3. Sample Plots"
   ]
  },
  {
   "cell_type": "code",
   "execution_count": 56,
   "metadata": {},
   "outputs": [
    {
     "data": {
      "image/png": "[encoded data removed]",
      "text/plain": [
       "<Figure size 1000x400 with 10 Axes>"
      ]
     },
     "metadata": {},
     "output_type": "display_data"
    }
   ],
   "source": [
    "# Sample 10 images with labels 0 to 9.\n",
    "samples = utils.sample_MNIST_with_all_labels(dataset_training)\n",
    "\n",
    "# Plot the images.\n",
    "rows, cols = 2, 5\n",
    "plt.figure(figsize=(10, 4))\n",
    "for i in range(rows * cols):\n",
    "    plt.subplot(rows, cols, i+1)\n",
    "    plt.axis('off')\n",
    "    plt.imshow(samples[i].squeeze(), cmap=plt.cm.gray)\n",
    "plt.tight_layout()"
   ]
  },
  {
   "attachments": {},
   "cell_type": "markdown",
   "metadata": {},
   "source": [
    "# 2. Model"
   ]
  },
  {
   "cell_type": "code",
   "execution_count": 57,
   "metadata": {},
   "outputs": [
    {
     "name": "stdout",
     "output_type": "stream",
     "text": [
      "Sequential(\n",
      "  (0): Flatten(start_dim=1, end_dim=-1)\n",
      "  (1): Linear(in_features=784, out_features=10, bias=True)\n",
      "  (2): Softmax(dim=1)\n",
      ")\n"
     ]
    }
   ],
   "source": [
    "model = torch.nn.Sequential(\n",
    "    torch.nn.Flatten(),\n",
    "    torch.nn.Linear(WIDTH*HEIGHT, 10),\n",
    "    torch.nn.Softmax(dim=1)\n",
    ")\n",
    "\n",
    "print(model)"
   ]
  },
  {
   "attachments": {},
   "cell_type": "markdown",
   "metadata": {},
   "source": [
    "## 2.1. Statistics of the Model"
   ]
  },
  {
   "cell_type": "code",
   "execution_count": 58,
   "metadata": {},
   "outputs": [
    {
     "name": "stdout",
     "output_type": "stream",
     "text": [
      "Total number of parameters: 7850\n"
     ]
    }
   ],
   "source": [
    "num_parameters_total = 0\n",
    "for params in model.parameters():\n",
    "    num_parameters = 1\n",
    "    size = params.size()\n",
    "    for dim_size in size:\n",
    "        num_parameters *= dim_size\n",
    "    num_parameters_total += num_parameters\n",
    "\n",
    "print(f'Total number of parameters: {num_parameters_total}')"
   ]
  },
  {
   "attachments": {},
   "cell_type": "markdown",
   "metadata": {},
   "source": [
    "# 2.2. Use the model before training"
   ]
  },
  {
   "cell_type": "code",
   "execution_count": 59,
   "metadata": {},
   "outputs": [
    {
     "data": {
      "image/png": "[encoded data removed]",
      "text/plain": [
       "<Figure size 1000x400 with 10 Axes>"
      ]
     },
     "metadata": {},
     "output_type": "display_data"
    }
   ],
   "source": [
    "# Sample 10 images with labels 0 to 9 from the test dataset.\n",
    "samples = utils.sample_MNIST_with_all_labels(dataset_test)\n",
    "\n",
    "preds = {}\n",
    "for label, image in samples.items():\n",
    "    pred = model(image)\n",
    "    preds[label] = pred.argmax(dim=1)[0].item()\n",
    "\n",
    "# Plot the images with labels.\n",
    "rows, cols = 2, 5\n",
    "plt.figure(figsize=(10, 4))\n",
    "for i in range(rows * cols):\n",
    "    plt.subplot(rows, cols, i+1)\n",
    "    plt.axis('off')\n",
    "    plt.imshow(samples[i].squeeze(), cmap=plt.cm.gray)\n",
    "    plt.title(preds[i])\n",
    "plt.tight_layout()"
   ]
  },
  {
   "attachments": {},
   "cell_type": "markdown",
   "metadata": {},
   "source": [
    "# 3. Training"
   ]
  },
  {
   "attachments": {},
   "cell_type": "markdown",
   "metadata": {},
   "source": [
    "## 3.1. Helper Functions"
   ]
  },
  {
   "cell_type": "code",
   "execution_count": 60,
   "metadata": {},
   "outputs": [],
   "source": [
    "def calculateStatistics(dataloader, model, loss_fn):\n",
    "    with torch.no_grad():\n",
    "        num_batches = len(dataloader)\n",
    "        num_samples = len(dataloader.dataset)\n",
    "        loss, correct = 0, 0\n",
    "\n",
    "        for images, labels in dataloader:\n",
    "            # Make predictions.\n",
    "            preds = model(images)\n",
    "\n",
    "            # Calculate the loss.\n",
    "            loss += loss_fn(preds, labels)\n",
    "\n",
    "            # Calculate the number of correctnesses.\n",
    "            correct += (preds.argmax(dim=1) == labels).type(dtype=torch.float32).sum()\n",
    "\n",
    "        # Calculate the mean loss and correct.\n",
    "        loss /= num_batches\n",
    "        correct /= num_samples\n",
    "\n",
    "    return loss, correct"
   ]
  },
  {
   "attachments": {},
   "cell_type": "markdown",
   "metadata": {},
   "source": [
    "## 3.2. Training"
   ]
  },
  {
   "cell_type": "code",
   "execution_count": 61,
   "metadata": {},
   "outputs": [],
   "source": [
    "def load(model):\n",
    "    # Retrieve saved data.\n",
    "    data = torch.load(f'saved/{SAVED_FILENAME}.pt')\n",
    "\n",
    "    # Resume model from saved data.\n",
    "    state_dict = data['state_dict']\n",
    "    model.load_state_dict(state_dict)\n",
    "\n",
    "    # Return losses and accuracies for training and testing.\n",
    "    return data['losses'], data['corrects'], data['losses_test'], data['corrects_test']"
   ]
  },
  {
   "cell_type": "code",
   "execution_count": 62,
   "metadata": {},
   "outputs": [],
   "source": [
    "def save(model, losses, corrects, losses_test, corrects_test):\n",
    "    # Create folder 'saved' if it does not exist.\n",
    "    if not os.path.exists('saved'):\n",
    "        os.makedirs('saved')\n",
    "\n",
    "    # Construct the struct of data to save.\n",
    "    data = {\n",
    "        'state_dict': model.state_dict(),\n",
    "        'losses': losses,\n",
    "        'corrects': corrects,\n",
    "        'losses_test': losses_test,\n",
    "        'corrects_test': corrects_test,\n",
    "    }\n",
    "\n",
    "    # Save data to the file.\n",
    "    torch.save(data, f'saved/{SAVED_FILENAME}.pt')"
   ]
  },
  {
   "cell_type": "code",
   "execution_count": 63,
   "metadata": {},
   "outputs": [],
   "source": [
    "def train(model):\n",
    "    loss_fn = torch.nn.CrossEntropyLoss()\n",
    "    optimizer = torch.optim.SGD(model.parameters(), LEARNING_RATE)\n",
    "\n",
    "    # Define losses and corrects for training and test.\n",
    "    losses, corrects = [], []\n",
    "    losses_test, corrects_test = [], []\n",
    "\n",
    "    # Calculate losses and corrects before training.\n",
    "    loss, correct = calculateStatistics(dataloader_training, model, loss_fn)\n",
    "    losses.append(loss)\n",
    "    corrects.append(correct)\n",
    "    loss_test, correct_test = calculateStatistics(dataloader_test, model, loss_fn)\n",
    "    losses_test.append(loss)\n",
    "    corrects_test.append(correct_test)\n",
    "\n",
    "    # Print statistics.\n",
    "    print(f'Training error: loss: {loss:>7f}, accuracy: {correct*100:>0.1f}%')\n",
    "    print(f'Test error: loss: {loss_test:>7f}, accuracy: {correct_test*100:>0.1f}%')\n",
    "\n",
    "    # Run epochs.\n",
    "    for epoch in range(EPOCHS):\n",
    "\n",
    "        # Run one epoch for training.\n",
    "        num_batches = len(dataloader_training)\n",
    "        num_samples = len(dataloader_training.dataset)\n",
    "        loss_epoch, correct_epoch = 0, 0\n",
    "        for batch, [images, labels] in enumerate(dataloader_training):\n",
    "            # Make predictions.\n",
    "            pred = model(images)\n",
    "\n",
    "            # Calculate the loss.\n",
    "            loss = loss_fn(pred, labels)\n",
    "            loss_epoch += loss.item()\n",
    "\n",
    "            # Calculate the number of correctness.\n",
    "            correct_epoch += (pred.argmax(dim=1) == labels).type(dtype=torch.float32).sum().item()\n",
    "\n",
    "            # Back propagation.\n",
    "            optimizer.zero_grad()\n",
    "            loss.backward()\n",
    "            optimizer.step()\n",
    "\n",
    "            if (batch + 1) % 1000 == 0:\n",
    "                loss, size_current, size_total = loss.item(), (batch+1)*BATCH_SIZE, len(dataloader_training.dataset)\n",
    "                print(f'loss: {loss:>7f} [{size_current:>5d} / {size_total:>5d}]')\n",
    "            \n",
    "        # Calculate the mean loss across all batches.\n",
    "        loss_epoch /= num_batches\n",
    "        losses.append(loss_epoch)\n",
    "\n",
    "        # Calculate the mean number of correctness across all batches.\n",
    "        correct_epoch /= num_samples\n",
    "        corrects.append(correct_epoch)\n",
    "\n",
    "        # Print statistics of the training part of the epoch.\n",
    "        print(f'Training error: loss: {loss_epoch:>7f}, accuracy: {correct_epoch*100:>0.1f}%')\n",
    "\n",
    "        # Calculate loss and correct for test.\n",
    "        loss_test, correct_test = calculateStatistics(dataloader_test, model, loss_fn)\n",
    "        losses_test.append(loss_test)\n",
    "        corrects_test.append(correct_test)\n",
    "\n",
    "        # Print statistics of the test part of the epoch.\n",
    "        print(f'Test error: loss: {loss_test:>7f}, accuracy: {correct_test*100:>0.1f}%')\n",
    "\n",
    "    # Return losses and accuracies for training and testing.\n",
    "    return losses, corrects, losses_test, corrects_test\n"
   ]
  },
  {
   "cell_type": "code",
   "execution_count": 64,
   "metadata": {},
   "outputs": [],
   "source": [
    "if os.path.exists(f'saved/{SAVED_FILENAME}.pt'):\n",
    "    losses, corrects, losses_test, corrects_test = load(model)\n",
    "else:\n",
    "    losses, corrects, losses_test, corrects_test = train(model)\n",
    "    save(model, losses, corrects, losses_test, corrects_test)"
   ]
  },
  {
   "attachments": {},
   "cell_type": "markdown",
   "metadata": {},
   "source": [
    "## 3.3. Visualization of the training process"
   ]
  },
  {
   "cell_type": "code",
   "execution_count": 65,
   "metadata": {},
   "outputs": [
    {
     "data": {
      "image/png": "[encoded data removed]",
      "text/plain": [
       "<Figure size 640x480 with 4 Axes>"
      ]
     },
     "metadata": {},
     "output_type": "display_data"
    }
   ],
   "source": [
    "fig, ((ax11, ax12), (ax21, ax22)) = plt.subplots(2,2)\n",
    "\n",
    "ax11.plot(losses)\n",
    "ax11.set_title('losses (training)')\n",
    "ax12.plot(corrects)\n",
    "ax12.set_title('accuracy (training)')\n",
    "ax21.plot(losses_test)\n",
    "ax21.set_title('losses (test)')\n",
    "ax22.plot(corrects_test)\n",
    "ax22.set_title('accuracy (test)')\n",
    "\n",
    "plt.show()"
   ]
  },
  {
   "attachments": {},
   "cell_type": "markdown",
   "metadata": {},
   "source": [
    "# 4. Use"
   ]
  },
  {
   "cell_type": "code",
   "execution_count": 66,
   "metadata": {},
   "outputs": [
    {
     "data": {
      "image/png": "[encoded data removed]",
      "text/plain": [
       "<Figure size 1000x400 with 10 Axes>"
      ]
     },
     "metadata": {},
     "output_type": "display_data"
    }
   ],
   "source": [
    "# Sample 10 images with labels 0 to 9 from the test dataset.\n",
    "samples = utils.sample_MNIST_with_all_labels(dataset_test)\n",
    "\n",
    "preds = {}\n",
    "for label, image in samples.items():\n",
    "    pred = model(image)\n",
    "    preds[label] = pred.argmax(dim=1)[0].item()\n",
    "\n",
    "# Plot the images with labels.\n",
    "rows, cols = 2, 5\n",
    "plt.figure(figsize=(10, 4))\n",
    "for i in range(rows * cols):\n",
    "    plt.subplot(rows, cols, i+1)\n",
    "    plt.axis('off')\n",
    "    plt.imshow(samples[i].squeeze(), cmap=plt.cm.gray)\n",
    "    plt.title(preds[i])\n",
    "plt.tight_layout()"
   ]
  }
 ],
 "metadata": {
  "kernelspec": {
   "display_name": "base",
   "language": "python",
   "name": "python3"
  },
  "language_info": {
   "codemirror_mode": {
    "name": "ipython",
    "version": 3
   },
   "file_extension": ".py",
   "mimetype": "text/x-python",
   "name": "python",
   "nbconvert_exporter": "python",
   "pygments_lexer": "ipython3",
   "version": "3.9.13"
  },
  "orig_nbformat": 4
 },
 "nbformat": 4,
 "nbformat_minor": 2
}
