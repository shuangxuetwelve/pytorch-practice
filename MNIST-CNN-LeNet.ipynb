{
 "cells": [
  {
   "cell_type": "code",
   "execution_count": 157,
   "metadata": {},
   "outputs": [],
   "source": [
    "# Python imports\n",
    "import os\n",
    "import math\n",
    "\n",
    "# PyTorch imports\n",
    "import torch\n",
    "import torchvision\n",
    "\n",
    "# Third-party imports\n",
    "import matplotlib.pyplot as plt\n",
    "from tabulate import tabulate\n",
    "\n",
    "# Own imports\n",
    "import utils"
   ]
  },
  {
   "attachments": {},
   "cell_type": "markdown",
   "metadata": {},
   "source": [
    "# 0. Constants"
   ]
  },
  {
   "cell_type": "code",
   "execution_count": 158,
   "metadata": {},
   "outputs": [],
   "source": [
    "WIDTH, HEIGHT = 28, 28\n",
    "CATEGORIES = 10\n",
    "BATCH_SIZE = 10\n",
    "LEARNING_RATE = 0.01\n",
    "EPOCHS = 10\n",
    "KERNEL_SIZES = [5, 5]\n",
    "CHANNELS = [1, 6, 16]\n",
    "FC_LAYER_SIZES = [120, 84]\n",
    "SAVED_FILENAME = 'MNIST-CNN-LeNet'"
   ]
  },
  {
   "attachments": {},
   "cell_type": "markdown",
   "metadata": {},
   "source": [
    "# 1. Dataset"
   ]
  },
  {
   "cell_type": "code",
   "execution_count": 159,
   "metadata": {},
   "outputs": [],
   "source": [
    "# Load datasets.\n",
    "dataset_training = torchvision.datasets.MNIST('./data', download=True, train=True, transform=torchvision.transforms.ToTensor())\n",
    "dataset_test = torchvision.datasets.MNIST('./data', download=True, train=False, transform=torchvision.transforms.ToTensor())\n",
    "\n",
    "# Create data loaders.\n",
    "dataloader_training = torch.utils.data.DataLoader(dataset_training, batch_size=BATCH_SIZE, shuffle=True)\n",
    "dataloader_test = torch.utils.data.DataLoader(dataset_test, batch_size=BATCH_SIZE, shuffle=True)"
   ]
  },
  {
   "attachments": {},
   "cell_type": "markdown",
   "metadata": {},
   "source": [
    "# 2. Model"
   ]
  },
  {
   "cell_type": "code",
   "execution_count": 160,
   "metadata": {},
   "outputs": [
    {
     "name": "stdout",
     "output_type": "stream",
     "text": [
      "Sequential(\n",
      "  (0): Conv2d(1, 6, kernel_size=(5, 5), stride=(1, 1), padding=same)\n",
      "  (1): BatchNorm2d(6, eps=1e-05, momentum=0.1, affine=True, track_running_stats=True)\n",
      "  (2): Sigmoid()\n",
      "  (3): AvgPool2d(kernel_size=2, stride=2, padding=0)\n",
      "  (4): Conv2d(6, 16, kernel_size=(5, 5), stride=(1, 1))\n",
      "  (5): BatchNorm2d(16, eps=1e-05, momentum=0.1, affine=True, track_running_stats=True)\n",
      "  (6): Sigmoid()\n",
      "  (7): AvgPool2d(kernel_size=2, stride=2, padding=0)\n",
      "  (8): Flatten(start_dim=1, end_dim=-1)\n",
      "  (9): Linear(in_features=400, out_features=120, bias=True)\n",
      "  (10): BatchNorm1d(120, eps=1e-05, momentum=0.1, affine=True, track_running_stats=True)\n",
      "  (11): Sigmoid()\n",
      "  (12): Linear(in_features=120, out_features=84, bias=True)\n",
      "  (13): BatchNorm1d(84, eps=1e-05, momentum=0.1, affine=True, track_running_stats=True)\n",
      "  (14): Sigmoid()\n",
      "  (15): Linear(in_features=84, out_features=10, bias=True)\n",
      "  (16): Softmax(dim=1)\n",
      ")\n"
     ]
    }
   ],
   "source": [
    "num_inputs_to_fc_layer = int(((WIDTH / 2 - 4) / 2) * ((HEIGHT / 2 - 4) / 2)) * CHANNELS[2]\n",
    "\n",
    "model = torch.nn.Sequential(\n",
    "    torch.nn.Conv2d(CHANNELS[0], CHANNELS[1], KERNEL_SIZES[0], padding='same'),\n",
    "    torch.nn.BatchNorm2d(CHANNELS[1]),\n",
    "    torch.nn.Sigmoid(),\n",
    "    torch.nn.AvgPool2d(2),\n",
    "    torch.nn.Conv2d(CHANNELS[1], CHANNELS[2], KERNEL_SIZES[1]),\n",
    "    torch.nn.BatchNorm2d(CHANNELS[2]),\n",
    "    torch.nn.Sigmoid(),\n",
    "    torch.nn.AvgPool2d(2),\n",
    "    torch.nn.Flatten(),\n",
    "    torch.nn.Linear(num_inputs_to_fc_layer, FC_LAYER_SIZES[0]),\n",
    "    torch.nn.BatchNorm1d(FC_LAYER_SIZES[0]),\n",
    "    torch.nn.Sigmoid(),\n",
    "    torch.nn.Linear(FC_LAYER_SIZES[0], FC_LAYER_SIZES[1]),\n",
    "    torch.nn.BatchNorm1d(FC_LAYER_SIZES[1]),\n",
    "    torch.nn.Sigmoid(),\n",
    "    torch.nn.Linear(FC_LAYER_SIZES[1], CATEGORIES),\n",
    "    torch.nn.Softmax(dim=1),\n",
    ")\n",
    "\n",
    "print(model)"
   ]
  },
  {
   "attachments": {},
   "cell_type": "markdown",
   "metadata": {},
   "source": [
    "## 2.1. Statistics of the Model"
   ]
  },
  {
   "cell_type": "code",
   "execution_count": 161,
   "metadata": {},
   "outputs": [
    {
     "name": "stdout",
     "output_type": "stream",
     "text": [
      "Total number of parameters: 62158\n"
     ]
    }
   ],
   "source": [
    "num_parameters_total = 0\n",
    "for params in model.parameters():\n",
    "    num_parameters = 1\n",
    "    size = params.size()\n",
    "    for dim_size in size:\n",
    "        num_parameters *= dim_size\n",
    "    num_parameters_total += num_parameters\n",
    "\n",
    "print(f'Total number of parameters: {num_parameters_total}')"
   ]
  },
  {
   "attachments": {},
   "cell_type": "markdown",
   "metadata": {},
   "source": [
    "# 3. Training"
   ]
  },
  {
   "attachments": {},
   "cell_type": "markdown",
   "metadata": {},
   "source": [
    "## 3.1. Helper Functions"
   ]
  },
  {
   "cell_type": "code",
   "execution_count": 162,
   "metadata": {},
   "outputs": [],
   "source": [
    "def calculateStatistics(dataloader, model, loss_fn):\n",
    "    with torch.no_grad():\n",
    "        num_batches = len(dataloader)\n",
    "        num_samples = len(dataloader.dataset)\n",
    "        loss, correct = 0, 0\n",
    "\n",
    "        for images, labels in dataloader:\n",
    "            # Make predictions.\n",
    "            preds = model(images)\n",
    "\n",
    "            # Calculate the loss.\n",
    "            loss += loss_fn(preds, labels).item()\n",
    "\n",
    "            # Calculate the number of correctnesses.\n",
    "            correct += (preds.argmax(dim=1) == labels).type(dtype=torch.float32).sum().item()\n",
    "\n",
    "        # Calculate the mean loss and correct.\n",
    "        loss /= num_batches\n",
    "        correct /= num_samples\n",
    "\n",
    "    return loss, correct"
   ]
  },
  {
   "cell_type": "code",
   "execution_count": 163,
   "metadata": {},
   "outputs": [],
   "source": [
    "def getGrads(model):\n",
    "    grads_weight = []\n",
    "    grads_bias = []\n",
    "\n",
    "    for layer in model:\n",
    "        if type(layer) == torch.nn.Conv2d or type(layer) == torch.nn.Linear:\n",
    "            grads_weight.append(layer.weight.grad.clone())\n",
    "            grads_bias.append(layer.bias.grad.clone())\n",
    "\n",
    "    return grads_weight, grads_bias"
   ]
  },
  {
   "cell_type": "code",
   "execution_count": 164,
   "metadata": {},
   "outputs": [],
   "source": [
    "def load(model):\n",
    "    # Retrieve saved data.\n",
    "    data = torch.load(f'saved/{SAVED_FILENAME}.pt')\n",
    "\n",
    "    # Resume model from saved data.\n",
    "    state_dict = data['state_dict']\n",
    "    model.load_state_dict(state_dict)\n",
    "\n",
    "    # Return losses and accuracies for training and testing.\n",
    "    return data['losses'], data['corrects'], data['losses_test'], data['corrects_test'], data['grads'], data['duration']"
   ]
  },
  {
   "cell_type": "code",
   "execution_count": 165,
   "metadata": {},
   "outputs": [],
   "source": [
    "def save(model, losses, corrects, losses_test, corrects_test, grads, duration):\n",
    "    # Create folder 'saved' if it does not exist.\n",
    "    if not os.path.exists('saved'):\n",
    "        os.makedirs('saved')\n",
    "\n",
    "    # Construct the struct of data to save.\n",
    "    data = {\n",
    "        'state_dict': model.state_dict(),\n",
    "        'losses': losses,\n",
    "        'corrects': corrects,\n",
    "        'losses_test': losses_test,\n",
    "        'corrects_test': corrects_test,\n",
    "        'grads': grads,\n",
    "        'duration': duration,\n",
    "    }\n",
    "\n",
    "    # Save data to the file.\n",
    "    torch.save(data, f'saved/{SAVED_FILENAME}.pt')"
   ]
  },
  {
   "attachments": {},
   "cell_type": "markdown",
   "metadata": {},
   "source": [
    "## 3.2. Training Function"
   ]
  },
  {
   "cell_type": "code",
   "execution_count": 166,
   "metadata": {},
   "outputs": [],
   "source": [
    "def train(model, epochs, learning_rate):\n",
    "    # Define a timer and start timing.\n",
    "    t = utils.Timer()\n",
    "    t.start()\n",
    "\n",
    "    loss_fn = torch.nn.CrossEntropyLoss()\n",
    "    optimizer = torch.optim.SGD(model.parameters(), learning_rate)\n",
    "\n",
    "    # Define losses and corrects for training and test.\n",
    "    losses, corrects = [], []\n",
    "    losses_test, corrects_test = [], []\n",
    "\n",
    "    # Define the grad variables.\n",
    "    grads = []\n",
    "\n",
    "    # Calculate losses and corrects before training.\n",
    "    loss, correct = calculateStatistics(dataloader_training, model, loss_fn)\n",
    "    losses.append(loss)\n",
    "    corrects.append(correct)\n",
    "    loss_test, correct_test = calculateStatistics(dataloader_test, model, loss_fn)\n",
    "    losses_test.append(loss)\n",
    "    corrects_test.append(correct_test)\n",
    "\n",
    "    # Print statistics.\n",
    "    print(f'Training error: loss: {loss:>7f}, accuracy: {correct*100:>0.1f}%')\n",
    "    print(f'Test error: loss: {loss_test:>7f}, accuracy: {correct_test*100:>0.1f}%')\n",
    "\n",
    "    # Run epochs.\n",
    "    for epoch in range(epochs):\n",
    "\n",
    "        # Run one epoch for training.\n",
    "        num_batches = len(dataloader_training)\n",
    "        num_samples = len(dataloader_training.dataset)\n",
    "        loss_epoch, correct_epoch = 0, 0\n",
    "        grads_weight_epoch, grads_bias_epoch = None, None\n",
    "        for batch, [images, labels] in enumerate(dataloader_training):\n",
    "            # Make predictions.\n",
    "            pred = model(images)\n",
    "\n",
    "            # Calculate the loss.\n",
    "            loss = loss_fn(pred, labels)\n",
    "            loss_epoch += loss.item()\n",
    "\n",
    "            # Calculate the number of correctness.\n",
    "            correct_epoch += (pred.argmax(dim=1) == labels).type(dtype=torch.float32).sum().item()\n",
    "\n",
    "            # Calculate gradients.\n",
    "            optimizer.zero_grad()\n",
    "            loss.backward()\n",
    "\n",
    "            # Store the gradients.\n",
    "            grads_weight_batch, grads_bias_batch = getGrads(model)\n",
    "            if grads_weight_epoch == None:\n",
    "                grads_weight_epoch = grads_weight_batch\n",
    "            else:\n",
    "                for i in range(len(grads_weight_epoch)):\n",
    "                    grads_weight_epoch[i] += grads_weight_batch[i]\n",
    "            if  grads_bias_epoch == None:\n",
    "                grads_bias_epoch = grads_bias_batch\n",
    "            else:\n",
    "                for i in range(len(grads_bias_epoch)):\n",
    "                    grads_bias_epoch[i] += grads_bias_batch[i]\n",
    "\n",
    "            # Optimization.\n",
    "            optimizer.step()\n",
    "\n",
    "            if (batch + 1) % 1000 == 0:\n",
    "                loss, size_current, size_total = loss.item(), (batch+1)*BATCH_SIZE, len(dataloader_training.dataset)\n",
    "                print(f'loss: {loss:>7f} [{size_current:>5d} / {size_total:>5d}]')\n",
    "            \n",
    "        # Calculate the mean loss across all batches.\n",
    "        loss_epoch /= num_batches\n",
    "        losses.append(loss_epoch)\n",
    "\n",
    "        # Calculate the mean number of correctness across all batches.\n",
    "        correct_epoch /= num_samples\n",
    "        corrects.append(correct_epoch)\n",
    "\n",
    "        for i in range(len(grads_bias_epoch)):\n",
    "            grads_weight_epoch[i] /= num_batches\n",
    "        for i in range(len(grads_bias_epoch)):\n",
    "            grads_bias_epoch[i] /= num_batches\n",
    "        grads.append({\n",
    "            'weight': grads_weight_epoch,\n",
    "            'bias': grads_bias_epoch,\n",
    "        })\n",
    "\n",
    "        # Print statistics of the training part of the epoch.\n",
    "        print(f'Training error: loss: {loss_epoch:>7f}, accuracy: {correct_epoch*100:>0.1f}%')\n",
    "\n",
    "        # Calculate loss and correct for test.\n",
    "        loss_test, correct_test = calculateStatistics(dataloader_test, model, loss_fn)\n",
    "        losses_test.append(loss_test)\n",
    "        corrects_test.append(correct_test)\n",
    "\n",
    "        # Print statistics of the test part of the epoch.\n",
    "        print(f'Test error: loss: {loss_test:>7f}, accuracy: {correct_test*100:>0.1f}%')\n",
    "\n",
    "    # Stop timing.\n",
    "    t.stop()\n",
    "\n",
    "    # Return losses and accuracies for training and testing, as well as the training duration.\n",
    "    return losses, corrects, losses_test, corrects_test, grads, t.getDuration()"
   ]
  },
  {
   "attachments": {},
   "cell_type": "markdown",
   "metadata": {},
   "source": [
    "## 3.3. Training"
   ]
  },
  {
   "cell_type": "code",
   "execution_count": 167,
   "metadata": {},
   "outputs": [
    {
     "name": "stdout",
     "output_type": "stream",
     "text": [
      "Training error: loss: 2.304792, accuracy: 8.8%\n",
      "Test error: loss: 2.304600, accuracy: 9.2%\n",
      "loss: 2.173460 [10000 / 60000]\n",
      "loss: 2.069687 [20000 / 60000]\n",
      "loss: 2.091254 [30000 / 60000]\n",
      "loss: 2.112394 [40000 / 60000]\n",
      "loss: 2.181055 [50000 / 60000]\n",
      "loss: 1.952530 [60000 / 60000]\n",
      "Training error: loss: 2.059951, accuracy: 45.8%\n",
      "Test error: loss: 1.917666, accuracy: 58.2%\n",
      "loss: 1.832985 [10000 / 60000]\n",
      "loss: 2.116235 [20000 / 60000]\n",
      "loss: 1.742555 [30000 / 60000]\n",
      "loss: 1.665107 [40000 / 60000]\n",
      "loss: 1.597334 [50000 / 60000]\n",
      "loss: 1.848742 [60000 / 60000]\n",
      "Training error: loss: 1.854281, accuracy: 64.7%\n",
      "Test error: loss: 1.776345, accuracy: 76.4%\n",
      "loss: 1.636030 [10000 / 60000]\n",
      "loss: 1.722623 [20000 / 60000]\n",
      "loss: 1.694865 [30000 / 60000]\n",
      "loss: 1.896483 [40000 / 60000]\n",
      "loss: 1.642335 [50000 / 60000]\n",
      "loss: 1.665638 [60000 / 60000]\n",
      "Training error: loss: 1.729148, accuracy: 77.8%\n",
      "Test error: loss: 1.704905, accuracy: 78.3%\n",
      "loss: 1.675909 [10000 / 60000]\n",
      "loss: 1.701184 [20000 / 60000]\n",
      "loss: 1.615452 [30000 / 60000]\n",
      "loss: 1.718299 [40000 / 60000]\n",
      "loss: 1.697509 [50000 / 60000]\n",
      "loss: 1.922413 [60000 / 60000]\n",
      "Training error: loss: 1.694313, accuracy: 78.6%\n",
      "Test error: loss: 1.685382, accuracy: 78.9%\n",
      "loss: 1.739221 [10000 / 60000]\n",
      "loss: 1.755349 [20000 / 60000]\n",
      "loss: 1.585993 [30000 / 60000]\n",
      "loss: 1.596978 [40000 / 60000]\n",
      "loss: 1.609578 [50000 / 60000]\n",
      "loss: 1.703532 [60000 / 60000]\n",
      "Training error: loss: 1.640312, accuracy: 85.8%\n",
      "Test error: loss: 1.579235, accuracy: 95.8%\n",
      "loss: 1.495812 [10000 / 60000]\n",
      "loss: 1.627392 [20000 / 60000]\n",
      "loss: 1.474787 [30000 / 60000]\n",
      "loss: 1.484861 [40000 / 60000]\n",
      "loss: 1.498713 [50000 / 60000]\n",
      "loss: 1.479422 [60000 / 60000]\n",
      "Training error: loss: 1.546367, accuracy: 96.5%\n",
      "Test error: loss: 1.526914, accuracy: 97.0%\n",
      "loss: 1.473904 [10000 / 60000]\n",
      "loss: 1.474310 [20000 / 60000]\n",
      "loss: 1.617224 [30000 / 60000]\n",
      "loss: 1.483863 [40000 / 60000]\n",
      "loss: 1.497773 [50000 / 60000]\n",
      "loss: 1.482967 [60000 / 60000]\n",
      "Training error: loss: 1.520986, accuracy: 97.0%\n",
      "Test error: loss: 1.512514, accuracy: 97.5%\n",
      "loss: 1.548854 [10000 / 60000]\n",
      "loss: 1.469741 [20000 / 60000]\n",
      "loss: 1.534680 [30000 / 60000]\n",
      "loss: 1.628239 [40000 / 60000]\n",
      "loss: 1.476808 [50000 / 60000]\n",
      "loss: 1.485260 [60000 / 60000]\n",
      "Training error: loss: 1.510592, accuracy: 97.4%\n",
      "Test error: loss: 1.505582, accuracy: 97.8%\n",
      "loss: 1.559608 [10000 / 60000]\n",
      "loss: 1.488943 [20000 / 60000]\n",
      "loss: 1.500006 [30000 / 60000]\n",
      "loss: 1.491701 [40000 / 60000]\n",
      "loss: 1.556310 [50000 / 60000]\n",
      "loss: 1.473816 [60000 / 60000]\n",
      "Training error: loss: 1.504194, accuracy: 97.6%\n",
      "Test error: loss: 1.499146, accuracy: 97.8%\n",
      "loss: 1.466344 [10000 / 60000]\n",
      "loss: 1.472615 [20000 / 60000]\n",
      "loss: 1.506652 [30000 / 60000]\n",
      "loss: 1.480301 [40000 / 60000]\n",
      "loss: 1.522876 [50000 / 60000]\n",
      "loss: 1.553982 [60000 / 60000]\n",
      "Training error: loss: 1.499863, accuracy: 97.8%\n",
      "Test error: loss: 1.502007, accuracy: 97.3%\n"
     ]
    }
   ],
   "source": [
    "if os.path.exists(f'saved/{SAVED_FILENAME}.pt'):\n",
    "    losses, corrects, losses_test, corrects_test, grads, duration = load(model)\n",
    "else:\n",
    "    losses, corrects, losses_test, corrects_test, grads, duration = train(model, EPOCHS, LEARNING_RATE)\n",
    "    save(model, losses, corrects, losses_test, corrects_test, grads, duration)"
   ]
  },
  {
   "attachments": {},
   "cell_type": "markdown",
   "metadata": {},
   "source": [
    "## 3.3. Visualization of the Training Process"
   ]
  },
  {
   "attachments": {},
   "cell_type": "markdown",
   "metadata": {},
   "source": [
    "### 3.3.1. Training Time"
   ]
  },
  {
   "cell_type": "code",
   "execution_count": 168,
   "metadata": {},
   "outputs": [
    {
     "name": "stdout",
     "output_type": "stream",
     "text": [
      "Training time: 281.32 seconds\n"
     ]
    }
   ],
   "source": [
    "print(f'Training time: {duration:.2f} seconds')"
   ]
  },
  {
   "attachments": {},
   "cell_type": "markdown",
   "metadata": {},
   "source": [
    "### 3.3.2. Visualization of Losses and Accuracies"
   ]
  },
  {
   "cell_type": "code",
   "execution_count": 169,
   "metadata": {},
   "outputs": [
    {
     "data": {
      "image/png": "[encoded data removed]",
      "text/plain": [
       "<Figure size 640x480 with 4 Axes>"
      ]
     },
     "metadata": {},
     "output_type": "display_data"
    }
   ],
   "source": [
    "fig, ((ax11, ax12), (ax21, ax22)) = plt.subplots(2,2)\n",
    "\n",
    "ax11.plot(losses)\n",
    "ax11.set_title(f'losses (training) {losses[EPOCHS]:.3f}')\n",
    "ax12.plot(corrects)\n",
    "ax12.set_title(f'accuracy (training) {corrects[EPOCHS]:.3f}')\n",
    "ax21.plot(losses_test)\n",
    "ax21.set_title(f'losses (test) {losses_test[EPOCHS]:.3f}')\n",
    "ax22.plot(corrects_test)\n",
    "ax22.set_title(f'accuracy (test) {corrects_test[EPOCHS]:.3f}')\n",
    "\n",
    "plt.tight_layout()\n",
    "plt.show()"
   ]
  },
  {
   "attachments": {},
   "cell_type": "markdown",
   "metadata": {},
   "source": [
    "### 3.3.2. Visualization of Gradients"
   ]
  },
  {
   "attachments": {},
   "cell_type": "markdown",
   "metadata": {},
   "source": [
    "Calculate the mean and variance of the absolute values of gradients."
   ]
  },
  {
   "cell_type": "code",
   "execution_count": 170,
   "metadata": {},
   "outputs": [
    {
     "name": "stdout",
     "output_type": "stream",
     "text": [
      "| Epoch     | Layer #1 - Weight   | Layer #1 - Bias   | Layer #2 - Weight   | Layer #2 - Bias   | Layer #3 - Weight   | Layer #3 - Bias   | Layer #4 - Weight   | Layer #4 - Bias   | Layer #5 - Weight   | Layer #5 - Bias   |\n",
      "|-----------|---------------------|-------------------|---------------------|-------------------|---------------------|-------------------|---------------------|-------------------|---------------------|-------------------|\n",
      "| Epoch #1  | 4e-04 (7e-08)       | 8e-10 (2e-19)     | 2e-04 (1e-08)       | 3e-10 (9e-20)     | 8e-05 (4e-09)       | 2e-11 (1e-21)     | 1e-04 (1e-08)       | 1e-11 (7e-23)     | 1e-03 (1e-06)       | 6e-04 (2e-07)     |\n",
      "| Epoch #6  | 2e-04 (3e-08)       | 7e-09 (5e-17)     | 9e-05 (5e-09)       | 7e-10 (5e-19)     | 4e-05 (1e-09)       | 3e-11 (1e-21)     | 6e-05 (2e-09)       | 2e-11 (2e-22)     | 6e-04 (2e-07)       | 2e-04 (3e-08)     |\n",
      "| Epoch #10 | 1e-04 (9e-09)       | 6e-09 (2e-17)     | 6e-05 (2e-09)       | 7e-10 (2e-19)     | 3e-05 (5e-10)       | 3e-11 (1e-21)     | 2e-05 (4e-10)       | 2e-11 (2e-22)     | 2e-04 (6e-09)       | 3e-05 (4e-10)     |\n"
     ]
    }
   ],
   "source": [
    "# Define how many rows to show in the table.\n",
    "ROWS = 3 if len(grads) >= 3 else len(grads)\n",
    "\n",
    "table = []\n",
    "for row in range(ROWS):\n",
    "    # Calculate which epoch to display.\n",
    "    if row == ROWS - 1:\n",
    "        index = EPOCHS - 1\n",
    "    else:\n",
    "        index = math.floor((EPOCHS / (ROWS - 1))) * row\n",
    "\n",
    "    row_data = [\n",
    "        f'Epoch #{index+1}',\n",
    "        f'{grads[index][\"weight\"][0].abs().mean().item():.0e} ({grads[index][\"weight\"][0].abs().var().item():.0e})',\n",
    "        f'{grads[index][\"bias\"][0].abs().mean().item():.0e} ({grads[index][\"bias\"][0].abs().var().item():.0e})',\n",
    "        f'{grads[index][\"weight\"][1].abs().mean().item():.0e} ({grads[index][\"weight\"][1].abs().var().item():.0e})',\n",
    "        f'{grads[index][\"bias\"][1].abs().mean().item():.0e} ({grads[index][\"bias\"][1].abs().var().item():.0e})',\n",
    "        f'{grads[index][\"weight\"][2].abs().mean().item():.0e} ({grads[index][\"weight\"][2].abs().var().item():.0e})',\n",
    "        f'{grads[index][\"bias\"][2].abs().mean().item():.0e} ({grads[index][\"bias\"][2].abs().var().item():.0e})',\n",
    "        f'{grads[index][\"weight\"][3].abs().mean().item():.0e} ({grads[index][\"weight\"][3].abs().var().item():.0e})',\n",
    "        f'{grads[index][\"bias\"][3].abs().mean().item():.0e} ({grads[index][\"bias\"][3].abs().var().item():.0e})',\n",
    "        f'{grads[index][\"weight\"][4].abs().mean().item():.0e} ({grads[index][\"weight\"][4].abs().var().item():.0e})',\n",
    "        f'{grads[index][\"bias\"][4].abs().mean().item():.0e} ({grads[index][\"bias\"][4].abs().var().item():.0e})',\n",
    "    ]\n",
    "\n",
    "    table.append(row_data)\n",
    "\n",
    "print(tabulate(table, tablefmt='github', headers=['Epoch', 'Layer #1 - Weight', 'Layer #1 - Bias', 'Layer #2 - Weight', 'Layer #2 - Bias', 'Layer #3 - Weight', 'Layer #3 - Bias', 'Layer #4 - Weight', 'Layer #4 - Bias', 'Layer #5 - Weight', 'Layer #5 - Bias']))"
   ]
  },
  {
   "attachments": {},
   "cell_type": "markdown",
   "metadata": {},
   "source": [
    "# 4. Use"
   ]
  },
  {
   "cell_type": "code",
   "execution_count": 184,
   "metadata": {},
   "outputs": [
    {
     "data": {
      "image/png": "[encoded data removed]",
      "text/plain": [
       "<Figure size 1000x400 with 10 Axes>"
      ]
     },
     "metadata": {},
     "output_type": "display_data"
    }
   ],
   "source": [
    "model.eval()\n",
    "\n",
    "# Sample 10 images with labels 0 to 9 from the test dataset.\n",
    "samples = utils.sample_MNIST_with_all_labels(dataset_test)\n",
    "\n",
    "preds = {}\n",
    "for label, image in samples.items():\n",
    "    pred = model(image[None, :])\n",
    "    preds[label] = pred.argmax(dim=1)[0].item()\n",
    "\n",
    "# Plot the images with labels.\n",
    "rows, cols = 2, 5\n",
    "plt.figure(figsize=(10, 4))\n",
    "for i in range(rows * cols):\n",
    "    plt.subplot(rows, cols, i+1)\n",
    "    plt.axis('off')\n",
    "    plt.imshow(samples[i].squeeze(), cmap=plt.cm.gray)\n",
    "    plt.title(preds[i])\n",
    "plt.tight_layout()"
   ]
  }
 ],
 "metadata": {
  "kernelspec": {
   "display_name": "base",
   "language": "python",
   "name": "python3"
  },
  "language_info": {
   "codemirror_mode": {
    "name": "ipython",
    "version": 3
   },
   "file_extension": ".py",
   "mimetype": "text/x-python",
   "name": "python",
   "nbconvert_exporter": "python",
   "pygments_lexer": "ipython3",
   "version": "3.9.13"
  },
  "orig_nbformat": 4
 },
 "nbformat": 4,
 "nbformat_minor": 2
}
