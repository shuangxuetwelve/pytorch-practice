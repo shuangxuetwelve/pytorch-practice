{
 "cells": [
  {
   "cell_type": "code",
   "execution_count": 25,
   "metadata": {},
   "outputs": [],
   "source": [
    "# Python imports\n",
    "import os\n",
    "\n",
    "# PyTorch imports\n",
    "import torch\n",
    "import torchvision\n",
    "\n",
    "# Third-party imports\n",
    "import matplotlib.pyplot as plt\n",
    "\n",
    "# Own imports\n",
    "import utils"
   ]
  },
  {
   "attachments": {},
   "cell_type": "markdown",
   "metadata": {},
   "source": [
    "# 0. Constants"
   ]
  },
  {
   "cell_type": "code",
   "execution_count": 26,
   "metadata": {},
   "outputs": [],
   "source": [
    "WIDTH, HEIGHT = 28, 28\n",
    "CATEGORIES = 10\n",
    "BATCH_SIZE = 10\n",
    "LEARNING_RATE = 0.01\n",
    "EPOCHS = 30\n",
    "KERNEL_SIZES = [5, 5]\n",
    "CHANNELS = [1, 6, 16]\n",
    "FC_LAYER_SIZES = [120, 84]\n",
    "SAVED_FILENAME = 'MNIST-CNN-LeNet'"
   ]
  },
  {
   "attachments": {},
   "cell_type": "markdown",
   "metadata": {},
   "source": [
    "# 1. Dataset"
   ]
  },
  {
   "cell_type": "code",
   "execution_count": 27,
   "metadata": {},
   "outputs": [],
   "source": [
    "# Load datasets.\n",
    "dataset_training = torchvision.datasets.MNIST('./data', download=True, train=True, transform=torchvision.transforms.ToTensor())\n",
    "dataset_test = torchvision.datasets.MNIST('./data', download=True, train=False, transform=torchvision.transforms.ToTensor())\n",
    "\n",
    "# Create data loaders.\n",
    "dataloader_training = torch.utils.data.DataLoader(dataset_training, batch_size=BATCH_SIZE, shuffle=True)\n",
    "dataloader_test = torch.utils.data.DataLoader(dataset_test, batch_size=BATCH_SIZE, shuffle=True)"
   ]
  },
  {
   "attachments": {},
   "cell_type": "markdown",
   "metadata": {},
   "source": [
    "# 2. Model"
   ]
  },
  {
   "cell_type": "code",
   "execution_count": 28,
   "metadata": {},
   "outputs": [
    {
     "name": "stdout",
     "output_type": "stream",
     "text": [
      "Sequential(\n",
      "  (0): Conv2d(1, 6, kernel_size=(5, 5), stride=(1, 1))\n",
      "  (1): AvgPool2d(kernel_size=2, stride=2, padding=0)\n",
      "  (2): Conv2d(6, 16, kernel_size=(5, 5), stride=(1, 1))\n",
      "  (3): AvgPool2d(kernel_size=2, stride=2, padding=0)\n",
      "  (4): Flatten(start_dim=1, end_dim=-1)\n",
      "  (5): Linear(in_features=256, out_features=120, bias=True)\n",
      "  (6): Linear(in_features=120, out_features=84, bias=True)\n",
      "  (7): Linear(in_features=84, out_features=10, bias=True)\n",
      "  (8): Softmax(dim=1)\n",
      ")\n"
     ]
    }
   ],
   "source": [
    "num_inputs_to_fc_layer = int((((WIDTH - 4) / 2 - 4) / 2) * (((HEIGHT - 4) / 2 - 4) / 2)) * CHANNELS[2]\n",
    "\n",
    "model = torch.nn.Sequential(\n",
    "    torch.nn.Conv2d(CHANNELS[0], CHANNELS[1], KERNEL_SIZES[0]),\n",
    "    torch.nn.AvgPool2d(2),\n",
    "    torch.nn.Conv2d(CHANNELS[1], CHANNELS[2], KERNEL_SIZES[1]),\n",
    "    torch.nn.AvgPool2d(2),\n",
    "    torch.nn.Flatten(),\n",
    "    torch.nn.Linear(num_inputs_to_fc_layer, FC_LAYER_SIZES[0]),\n",
    "    torch.nn.Linear(FC_LAYER_SIZES[0], FC_LAYER_SIZES[1]),\n",
    "    torch.nn.Linear(FC_LAYER_SIZES[1], CATEGORIES),\n",
    "    torch.nn.Softmax(dim=1),\n",
    ")\n",
    "\n",
    "print(model)"
   ]
  },
  {
   "attachments": {},
   "cell_type": "markdown",
   "metadata": {},
   "source": [
    "## 2.1. Statistics of the Model"
   ]
  },
  {
   "cell_type": "code",
   "execution_count": 29,
   "metadata": {},
   "outputs": [
    {
     "name": "stdout",
     "output_type": "stream",
     "text": [
      "Total number of parameters: 44426\n"
     ]
    }
   ],
   "source": [
    "num_parameters_total = 0\n",
    "for params in model.parameters():\n",
    "    num_parameters = 1\n",
    "    size = params.size()\n",
    "    for dim_size in size:\n",
    "        num_parameters *= dim_size\n",
    "    num_parameters_total += num_parameters\n",
    "\n",
    "print(f'Total number of parameters: {num_parameters_total}')"
   ]
  }
 ],
 "metadata": {
  "kernelspec": {
   "display_name": "base",
   "language": "python",
   "name": "python3"
  },
  "language_info": {
   "codemirror_mode": {
    "name": "ipython",
    "version": 3
   },
   "file_extension": ".py",
   "mimetype": "text/x-python",
   "name": "python",
   "nbconvert_exporter": "python",
   "pygments_lexer": "ipython3",
   "version": "3.9.13"
  },
  "orig_nbformat": 4
 },
 "nbformat": 4,
 "nbformat_minor": 2
}
